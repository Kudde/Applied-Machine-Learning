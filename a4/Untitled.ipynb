{
 "cells": [
  {
   "cell_type": "markdown",
   "metadata": {},
   "source": [
    "# Lab 4 - Recognize named entities\n",
    "- Write a program to recognize named entities in text\n",
    "- Learn how to manage a text data set\n",
    "- Apply recurrent neural networks to text\n",
    "- Know what word embeddings are"
   ]
  },
  {
   "cell_type": "markdown",
   "metadata": {},
   "source": [
    "Collecting the Embeddings"
   ]
  },
  {
   "cell_type": "code",
   "execution_count": 1,
   "metadata": {},
   "outputs": [],
   "source": [
    "filepath = 'glove_6B_100d.txt'\n",
    "glove_dict = {}\n",
    "with open(filepath) as fp:\n",
    "    for cnt, line in enumerate(fp):\n",
    "        line = line.replace(\"\\n\", \"\")\n",
    "        line = line.split(\" \")\n",
    "        word = line.pop(0)\n",
    "        line = list(map(float, line))\n",
    "        glove_dict[word] = line\n",
    "        \n"
   ]
  },
  {
   "cell_type": "code",
   "execution_count": 2,
   "metadata": {},
   "outputs": [
    {
     "name": "stdout",
     "output_type": "stream",
     "text": [
      "the\n",
      "[-0.038194, -0.24487, 0.72812, -0.39961, 0.083172, 0.043953, -0.39141, 0.3344, -0.57545, 0.087459, 0.28787, -0.06731, 0.30906, -0.26384, -0.13231, -0.20757, 0.33395, -0.33848, -0.31743, -0.48336, 0.1464, -0.37304, 0.34577, 0.052041, 0.44946, -0.46971, 0.02628, -0.54155, -0.15518, -0.14107, -0.039722, 0.28277, 0.14393, 0.23464, -0.31021, 0.086173, 0.20397, 0.52624, 0.17164, -0.082378, -0.71787, -0.41531, 0.20335, -0.12763, 0.41367, 0.55187, 0.57908, -0.33477, -0.36559, -0.54857, -0.062892, 0.26584, 0.30205, 0.99775, -0.80481, -3.0243, 0.01254, -0.36942, 2.2167, 0.72201, -0.24978, 0.92136, 0.034514, 0.46745, 1.1079, -0.19358, -0.074575, 0.23353, -0.052062, -0.22044, 0.057162, -0.15806, -0.30798, -0.41625, 0.37972, 0.15006, -0.53212, -0.2055, -1.2526, 0.071624, 0.70565, 0.49744, -0.42063, 0.26148, -1.538, -0.30223, -0.073438, -0.28312, 0.37104, -0.25217, 0.016215, -0.017099, -0.38984, 0.87424, -0.72569, -0.51058, -0.52028, -0.1459, 0.8278, 0.27062]\n",
      "100\n"
     ]
    }
   ],
   "source": [
    "print(\"the\")\n",
    "print(glove_dict[\"the\"])\n",
    "print(len(glove_dict[\"the\"]))"
   ]
  },
  {
   "cell_type": "markdown",
   "metadata": {},
   "source": [
    "Cosine similarity"
   ]
  },
  {
   "cell_type": "code",
   "execution_count": 3,
   "metadata": {},
   "outputs": [
    {
     "name": "stdout",
     "output_type": "stream",
     "text": [
      "['tables', 'place', 'bottom', 'room', 'side']\n",
      "['belgium', 'french', 'britain', 'spain', 'paris']\n",
      "['denmark', 'norway', 'finland', 'netherlands', 'austria']\n"
     ]
    }
   ],
   "source": [
    "from scipy import spatial\n",
    "\n",
    "table_vector = glove_dict[\"table\"]\n",
    "france_vector = glove_dict[\"france\"]\n",
    "sweden_vector = glove_dict[\"sweden\"]\n",
    "\n",
    "# Table\n",
    "def get_close_words(word_vector):\n",
    "    result_dict = {}\n",
    "    for k,v in glove_dict.items():\n",
    "        result = 1 - spatial.distance.cosine(word_vector, v)\n",
    "        result_dict[k] = result\n",
    "\n",
    "    top_five = sorted(result_dict, key=result_dict.get, reverse=True)[1:6]\n",
    "    return top_five\n",
    "\n",
    "result = get_close_words(table_vector)\n",
    "print(result)\n",
    "\n",
    "result = get_close_words(france_vector)\n",
    "print(result)\n",
    "      \n",
    "result = get_close_words(sweden_vector)\n",
    "print(result)\n"
   ]
  },
  {
   "cell_type": "markdown",
   "metadata": {},
   "source": [
    "### Reading the Corpus and Building Indices"
   ]
  },
  {
   "cell_type": "code",
   "execution_count": 4,
   "metadata": {},
   "outputs": [
    {
     "name": "stdout",
     "output_type": "stream",
     "text": [
      "[{'form': '-DOCSTART-', 'ppos': '-X-', 'pchunk': 'O', 'ner': 'O'}]\n",
      "------\n",
      "[{'form': 'EU', 'ppos': 'NNP', 'pchunk': 'I-NP', 'ner': 'I-ORG'}, {'form': 'rejects', 'ppos': 'VBZ', 'pchunk': 'I-VP', 'ner': 'O'}, {'form': 'German', 'ppos': 'JJ', 'pchunk': 'I-NP', 'ner': 'I-MISC'}, {'form': 'call', 'ppos': 'NN', 'pchunk': 'I-NP', 'ner': 'O'}, {'form': 'to', 'ppos': 'TO', 'pchunk': 'I-VP', 'ner': 'O'}, {'form': 'boycott', 'ppos': 'VB', 'pchunk': 'I-VP', 'ner': 'O'}, {'form': 'British', 'ppos': 'JJ', 'pchunk': 'I-NP', 'ner': 'I-MISC'}, {'form': 'lamb', 'ppos': 'NN', 'pchunk': 'I-NP', 'ner': 'O'}, {'form': '.', 'ppos': '.', 'pchunk': 'O', 'ner': 'O'}]\n",
      "------\n",
      "[{'form': 'SOCCER', 'ppos': 'NN', 'pchunk': 'I-NP', 'ner': 'O'}, {'form': '-', 'ppos': ':', 'pchunk': 'O', 'ner': 'O'}, {'form': 'JAPAN', 'ppos': 'NNP', 'pchunk': 'I-NP', 'ner': 'I-LOC'}, {'form': 'GET', 'ppos': 'VB', 'pchunk': 'I-VP', 'ner': 'O'}, {'form': 'LUCKY', 'ppos': 'NNP', 'pchunk': 'I-NP', 'ner': 'O'}, {'form': 'WIN', 'ppos': 'NNP', 'pchunk': 'I-NP', 'ner': 'O'}, {'form': ',', 'ppos': ',', 'pchunk': 'O', 'ner': 'O'}, {'form': 'CHINA', 'ppos': 'NNP', 'pchunk': 'I-NP', 'ner': 'I-PER'}, {'form': 'IN', 'ppos': 'IN', 'pchunk': 'I-PP', 'ner': 'O'}, {'form': 'SURPRISE', 'ppos': 'DT', 'pchunk': 'I-NP', 'ner': 'O'}, {'form': 'DEFEAT', 'ppos': 'NN', 'pchunk': 'I-NP', 'ner': 'O'}, {'form': '.', 'ppos': '.', 'pchunk': 'O', 'ner': 'O'}]\n"
     ]
    }
   ],
   "source": [
    "from conll_dictorizer import CoNLLDictorizer, Token\n",
    "\n",
    "def load_conll2003_en():\n",
    "    BASE_DIR = ''\n",
    "    train_file = BASE_DIR + 'NER-data/eng.train'\n",
    "    dev_file = BASE_DIR + 'NER-data/eng.valid'\n",
    "    test_file = BASE_DIR + 'NER-data/eng.test'\n",
    "    column_names = ['form', 'ppos', 'pchunk', 'ner']\n",
    "    train_sentences = open(train_file, encoding='utf8').read().strip()\n",
    "    dev_sentences = open(dev_file, encoding='utf8').read().strip()\n",
    "    test_sentences = open(test_file, encoding='utf8').read().strip()\n",
    "    return train_sentences, dev_sentences, test_sentences, column_names\n",
    "\n",
    "\n",
    "train_sentences, val_sentences, test_sentences, column_names = load_conll2003_en()\n",
    "\n",
    "conll_dict = CoNLLDictorizer(column_names, col_sep=' +')\n",
    "train_dict = conll_dict.transform(train_sentences)\n",
    "val_dict = conll_dict.transform(val_sentences)\n",
    "test_dict = conll_dict.transform(test_sentences)\n",
    "\n",
    "print(train_dict[0])\n",
    "print(\"------\")\n",
    "print(train_dict[1])\n",
    "print(\"------\")\n",
    "print(test_dict[1])"
   ]
  },
  {
   "cell_type": "markdown",
   "metadata": {},
   "source": [
    "1. Write a function that for each sentence returns the x and y lists of symbols consisting of words and NER tags.\n",
    "2. Apply this function to your datasets so that you create X and Y lists of lists consisting of words and NER tags "
   ]
  },
  {
   "cell_type": "code",
   "execution_count": 5,
   "metadata": {},
   "outputs": [
    {
     "name": "stdout",
     "output_type": "stream",
     "text": [
      "['-docstart-']\n",
      "['eu', 'rejects', 'german', 'call', 'to', 'boycott', 'british', 'lamb', '.']\n",
      "['peter', 'blackburn']\n",
      "['brussels', '1996-08-22']\n",
      "['the', 'european', 'commission', 'said', 'on', 'thursday', 'it', 'disagreed', 'with', 'german', 'advice', 'to', 'consumers', 'to', 'shun', 'british', 'lamb', 'until', 'scientists', 'determine', 'whether', 'mad', 'cow', 'disease', 'can', 'be', 'transmitted', 'to', 'sheep', '.']\n",
      "---------\n",
      "['O']\n",
      "['I-ORG', 'O', 'I-MISC', 'O', 'O', 'O', 'I-MISC', 'O', 'O']\n",
      "['I-PER', 'I-PER']\n",
      "['I-LOC', 'O']\n",
      "['O', 'I-ORG', 'I-ORG', 'O', 'O', 'O', 'O', 'O', 'O', 'I-MISC', 'O', 'O', 'O', 'O', 'O', 'I-MISC', 'O', 'O', 'O', 'O', 'O', 'O', 'O', 'O', 'O', 'O', 'O', 'O', 'O', 'O']\n",
      "---------\n",
      "['-docstart-']\n",
      "['soccer', '-', 'japan', 'get', 'lucky', 'win', ',', 'china', 'in', 'surprise', 'defeat', '.']\n",
      "['nadim', 'ladki']\n",
      "['al-ain', ',', 'united', 'arab', 'emirates', '1996-12-06']\n",
      "['japan', 'began', 'the', 'defence', 'of', 'their', 'asian', 'cup', 'title', 'with', 'a', 'lucky', '2-1', 'win', 'against', 'syria', 'in', 'a', 'group', 'c', 'championship', 'match', 'on', 'friday', '.']\n"
     ]
    }
   ],
   "source": [
    "def get_xy_lists(sentence_list):\n",
    "    x_word_list = []\n",
    "    y_stuff_list = []\n",
    "    for word_item in sentence_list:\n",
    "        word_item_list = list(word_item.values())\n",
    "        x_word_list.append(word_item['form'].lower())\n",
    "        y_stuff_list.append(word_item['ner'])\n",
    "        \n",
    "    #print(x_word_list)\n",
    "    #print(y_stuff_list)\n",
    "    #print(\"-----\")\n",
    "    return x_word_list, y_stuff_list\n",
    "    \n",
    "def get_xy_lists_of_dictionary(dictionary_list):\n",
    "    list_X = []\n",
    "    list_Y = []\n",
    "\n",
    "    for sentence in dictionary_list:\n",
    "        x, y = get_xy_lists(sentence)\n",
    "        list_X.append(x)\n",
    "        list_Y.append(y)\n",
    "    \n",
    "    return list_X, list_Y\n",
    "    \n",
    "    \n",
    "train_X, train_Y = get_xy_lists_of_dictionary(train_dict)\n",
    "\n",
    "val_X, val_Y = get_xy_lists_of_dictionary(val_dict)\n",
    "test_X, test_Y = get_xy_lists_of_dictionary(test_dict)\n",
    "\n",
    "for i in train_X[0:5]:\n",
    "    print(i)\n",
    "    \n",
    "print(\"---------\")\n",
    "for i in train_Y[0:5]:\n",
    "    print(i)\n",
    "\n",
    "print(\"---------\")\n",
    "for i in test_X[0:5]:\n",
    "    print(i)"
   ]
  },
  {
   "cell_type": "markdown",
   "metadata": {},
   "source": [
    " Create a vocabulary of all the words observed in the training set and the words in GloVe. "
   ]
  },
  {
   "cell_type": "code",
   "execution_count": 6,
   "metadata": {},
   "outputs": [
    {
     "name": "stdout",
     "output_type": "stream",
     "text": [
      "Glove :  400000\n",
      "Train :  14987\n",
      "Intersection :  18415\n",
      "Union :  402595\n"
     ]
    }
   ],
   "source": [
    "\n",
    "glove_set = set()\n",
    "train_set = set()\n",
    "\n",
    "for k in glove_dict:\n",
    "    glove_set.add(k)\n",
    "    \n",
    "for sen in train_X:\n",
    "    for word in sen:\n",
    "        train_set.add(word)\n",
    "\n",
    "        \n",
    "print(\"Glove : \" , len(glove_dict))\n",
    "print(\"Train : \" , len(train_X))\n",
    "inter_vocab_set = glove_set.intersection(train_set)\n",
    "union_vocab_set = glove_set.union(train_set)\n",
    "print(\"Intersection : \" , len(inter_vocab_set))\n",
    "print(\"Union : \" , len(union_vocab_set))"
   ]
  },
  {
   "cell_type": "code",
   "execution_count": 7,
   "metadata": {},
   "outputs": [
    {
     "name": "stdout",
     "output_type": "stream",
     "text": [
      "NER set :  {'I-ORG', 'I-MISC', 'B-LOC', 'B-MISC', 'B-ORG', 'O', 'I-PER', 'I-LOC'}\n"
     ]
    }
   ],
   "source": [
    "union_ner_set = set()\n",
    "\n",
    "for line in train_Y:\n",
    "    for element in line:\n",
    "        union_ner_set.add(element)\n",
    "print(\"NER set : \" , union_ner_set)"
   ]
  },
  {
   "cell_type": "markdown",
   "metadata": {},
   "source": [
    "Create indices and inverted indices for the words and the NER: i.e. you will associate each word with a number. You will use index 0 for the padding symbol and 1 for unknown words. "
   ]
  },
  {
   "cell_type": "code",
   "execution_count": 8,
   "metadata": {},
   "outputs": [
    {
     "name": "stdout",
     "output_type": "stream",
     "text": [
      "joensen\n",
      "Words size :  402595\n",
      "Index sixe :  8\n",
      "283902\n",
      "8\n"
     ]
    }
   ],
   "source": [
    "\n",
    "idx_word = dict(enumerate(union_vocab_set, start=2)) \n",
    "idx_ner = dict(enumerate(union_ner_set, start=2)) \n",
    "word_idx = {v: k for k, v in idx_word.items()} \n",
    "ner_idx = {v: k for k, v in idx_ner.items()} \n",
    "\n",
    "print(idx_word[131688])\n",
    "print(\"Words size : \" , len(idx_word))\n",
    "print(\"Index sixe : \" , len(idx_ner))\n",
    "print(word_idx['eu'])\n",
    "print(len(ner_idx))\n",
    "\n"
   ]
  },
  {
   "cell_type": "markdown",
   "metadata": {},
   "source": [
    "### Building the Embedding Matrix\n",
    "1. Create a matrix of dimensions (M, N), where M, will the size of the vocabulary: The unique words in the training set and the words in GloVe, and N, the dimension of the embeddings.\n",
    "The padding symbol and the unknown word symbol will be part of the vocabulary.\n",
    "The shape of your matrix should be: (402597, 100). Initialize it with random values."
   ]
  },
  {
   "cell_type": "code",
   "execution_count": 9,
   "metadata": {},
   "outputs": [
    {
     "name": "stdout",
     "output_type": "stream",
     "text": [
      "Embedding shape :  (402597, 100)\n"
     ]
    }
   ],
   "source": [
    "import numpy as np\n",
    "\n",
    "m = len(idx_word)+2\n",
    "n = 100\n",
    "embedding_matrix = np.random.rand(m, n)\n",
    "print(\"Embedding shape : \" , embedding_matrix.shape)"
   ]
  },
  {
   "cell_type": "markdown",
   "metadata": {},
   "source": [
    "Fill the matrix with the GloVe embeddings when available. You will use the indices from the previous section"
   ]
  },
  {
   "cell_type": "code",
   "execution_count": 10,
   "metadata": {},
   "outputs": [
    {
     "name": "stdout",
     "output_type": "stream",
     "text": [
      "100\n",
      "(402597, 100)\n",
      "[7.66346340e-01 6.46773905e-01 8.39413604e-01 6.45893486e-01\n",
      " 1.15919568e-01 2.94760058e-01 3.63572532e-02 6.54689381e-01\n",
      " 3.12936398e-01 9.48920714e-01 1.29580706e-01 8.35657115e-01\n",
      " 1.97963406e-01 7.73870039e-01 5.02106405e-01 3.71653689e-01\n",
      " 6.98330599e-02 7.41009715e-02 5.28040653e-01 4.77327766e-01\n",
      " 2.33337926e-01 1.58562088e-01 7.33498371e-01 8.48821652e-01\n",
      " 8.27953837e-01 5.68689615e-01 6.87412396e-01 1.78647787e-01\n",
      " 9.62671548e-01 7.66994597e-01 9.50112311e-01 2.37128100e-01\n",
      " 6.53186830e-01 5.05594443e-01 8.66725318e-01 7.87346274e-01\n",
      " 6.99947604e-01 6.02260785e-01 6.60067167e-02 2.21937473e-01\n",
      " 7.30648240e-01 9.89298036e-01 9.50420176e-01 3.29979582e-01\n",
      " 7.56414493e-05 3.72545903e-01 6.15664983e-01 2.35299425e-01\n",
      " 6.36622213e-02 1.17576545e-01 5.66556159e-01 8.99318238e-01\n",
      " 1.94548583e-01 8.34330591e-01 6.24059861e-01 2.56197169e-02\n",
      " 3.99752287e-01 3.35095881e-01 8.79091728e-01 7.03446572e-01\n",
      " 1.32218415e-02 6.62958142e-01 8.54947709e-01 9.79739990e-01\n",
      " 6.31948497e-01 1.90992327e-01 9.74075513e-01 2.13505133e-01\n",
      " 2.33088283e-01 8.34541437e-01 9.20015009e-01 9.40687118e-01\n",
      " 6.02661269e-01 6.49794585e-01 7.13355829e-01 2.92549836e-01\n",
      " 3.79143894e-01 3.28820780e-01 4.66190873e-01 2.65400459e-01\n",
      " 6.26438571e-01 3.82797064e-01 1.48054492e-01 7.28427599e-01\n",
      " 2.66147436e-01 2.48776579e-01 2.30395238e-01 1.52306266e-02\n",
      " 9.82654301e-02 3.70239553e-01 3.85157622e-01 1.42966542e-01\n",
      " 4.31989214e-01 2.01579907e-01 6.33192313e-01 8.33730595e-01\n",
      " 5.29810964e-01 4.23238984e-01 4.05107066e-01 6.49184348e-01]\n"
     ]
    }
   ],
   "source": [
    "\n",
    "\n",
    "for index, word in idx_word.items():\n",
    "    if word in glove_dict: \n",
    "        embedding_vector = glove_dict[word]\n",
    "        embedding_matrix[index] = embedding_vector\n",
    "    \n",
    "\n",
    "print(len(embedding_matrix[0]))\n",
    "print(embedding_matrix.shape)\n",
    "\n",
    "print(embedding_matrix[0])\n",
    "    "
   ]
  },
  {
   "cell_type": "markdown",
   "metadata": {},
   "source": [
    "### Creating the X and Y Sequences "
   ]
  },
  {
   "cell_type": "code",
   "execution_count": 11,
   "metadata": {},
   "outputs": [
    {
     "name": "stdout",
     "output_type": "stream",
     "text": [
      "['-docstart-']\n",
      "['eu', 'rejects', 'german', 'call', 'to', 'boycott', 'british', 'lamb', '.']\n",
      "['peter', 'blackburn']\n",
      "['brussels', '1996-08-22']\n",
      "['the', 'european', 'commission', 'said', 'on', 'thursday', 'it', 'disagreed', 'with', 'german', 'advice', 'to', 'consumers', 'to', 'shun', 'british', 'lamb', 'until', 'scientists', 'determine', 'whether', 'mad', 'cow', 'disease', 'can', 'be', 'transmitted', 'to', 'sheep', '.']\n",
      "---------\n",
      "['O']\n",
      "['I-ORG', 'O', 'I-MISC', 'O', 'O', 'O', 'I-MISC', 'O', 'O']\n",
      "['I-PER', 'I-PER']\n",
      "['I-LOC', 'O']\n",
      "['O', 'I-ORG', 'I-ORG', 'O', 'O', 'O', 'O', 'O', 'O', 'I-MISC', 'O', 'O', 'O', 'O', 'O', 'I-MISC', 'O', 'O', 'O', 'O', 'O', 'O', 'O', 'O', 'O', 'O', 'O', 'O', 'O', 'O']\n"
     ]
    }
   ],
   "source": [
    "for i in train_X[0:5]:\n",
    "    print(i)\n",
    "    \n",
    "print(\"---------\")\n",
    "for i in train_Y[0:5]:\n",
    "    print(i)"
   ]
  },
  {
   "cell_type": "markdown",
   "metadata": {},
   "source": [
    "Convert the X and Y lists of symbols in lists of numbers using the indices you created. "
   ]
  },
  {
   "cell_type": "code",
   "execution_count": 12,
   "metadata": {},
   "outputs": [
    {
     "name": "stdout",
     "output_type": "stream",
     "text": [
      "X size :  14987\n",
      "Y size :  14987\n"
     ]
    }
   ],
   "source": [
    "def change_irregular_matrix_with_word_into_numbers(list_list):\n",
    "    num_list = []\n",
    "    for sentence in list_list:\n",
    "        num_sentence = []\n",
    "        for word in sentence:\n",
    "            if word not in word_idx:\n",
    "                num_sentence.append(1)\n",
    "            else:\n",
    "                num_sentence.append(word_idx[word])\n",
    "            \n",
    "        num_list.append(num_sentence)\n",
    "        \n",
    "    return num_list\n",
    "\n",
    "def change_irregular_matrix_with_ner_into_numbers(list_list):\n",
    "    num_list = []\n",
    "    for sentence in list_list:\n",
    "        num_sentence = []\n",
    "        for ner in sentence:\n",
    "            if ner not in ner_idx:\n",
    "                num_sentence.append(1)\n",
    "            else:\n",
    "                num_sentence.append(ner_idx[ner])\n",
    "            \n",
    "        num_list.append(num_sentence)\n",
    "        \n",
    "    return num_list\n",
    "\n",
    "X_train_num_list = change_irregular_matrix_with_word_into_numbers(train_X)\n",
    "Y_train_num_list = change_irregular_matrix_with_ner_into_numbers(train_Y)\n",
    "\n",
    "X_val_num_list = change_irregular_matrix_with_word_into_numbers(val_X)\n",
    "Y_val_num_list = change_irregular_matrix_with_ner_into_numbers(val_Y)\n",
    "\n",
    "X_test_num_list = change_irregular_matrix_with_word_into_numbers(test_X)\n",
    "Y_test_num_list = change_irregular_matrix_with_ner_into_numbers(test_Y)\n",
    "\n",
    "    \n",
    "print(\"X size : \" , len(X_train_num_list))\n",
    "print(\"Y size : \" , len(Y_train_num_list))\n"
   ]
  },
  {
   "cell_type": "markdown",
   "metadata": {},
   "source": [
    "Pad the sentences using the pad_sequences function. As maximum length and maxlen argument, you will use 150 or greater. What matters is that you have a length that is larger than the maximum length observed in your training and development corpora. After padding, the second sentence you look like (the indices are not necessarily the same). "
   ]
  },
  {
   "cell_type": "code",
   "execution_count": 13,
   "metadata": {},
   "outputs": [
    {
     "name": "stderr",
     "output_type": "stream",
     "text": [
      "Using TensorFlow backend.\n"
     ]
    },
    {
     "name": "stdout",
     "output_type": "stream",
     "text": [
      "x\n",
      "[     0      0      0      0      0      0      0      0      0      0\n",
      "      0      0      0      0      0      0      0      0      0      0\n",
      "      0      0      0      0      0      0      0      0      0      0\n",
      "      0      0      0      0      0      0      0      0      0      0\n",
      "      0      0      0      0      0      0      0      0      0      0\n",
      "      0      0      0      0      0      0      0      0      0      0\n",
      "      0      0      0      0      0      0      0      0      0      0\n",
      "      0      0      0      0      0      0      0      0      0      0\n",
      "      0      0      0      0      0      0      0      0      0      0\n",
      "      0      0      0      0      0      0      0      0      0      0\n",
      "      0      0      0 146755 147260 257619 327609  68090 286593 260950\n",
      " 174368  20752 238952  90695  73207  18105 254950  68074  43699  32442\n",
      " 290189 384704 352310 399992 370989  88191 325615 260083 307823 312160\n",
      " 397853 152867  20752 250421  31217  35702  20752   2166   7730  20752\n",
      "  32442 103911 370946  20154  63926  20752 384704 140265 246363 152867]\n",
      "y\n",
      "[0 0 0 0 0 0 0 0 0 0 0 0 0 0 0 0 0 0 0 0 0 0 0 0 0 0 0 0 0 0 0 0 0 0 0 0 0\n",
      " 0 0 0 0 0 0 0 0 0 0 0 0 0 0 0 0 0 0 0 0 0 0 0 0 0 0 0 0 0 0 0 0 0 0 0 0 0\n",
      " 0 0 0 0 0 0 0 0 0 0 0 0 0 0 0 0 0 0 0 0 0 0 0 0 0 0 0 0 0 7 7 7 7 3 7 7 7\n",
      " 7 7 7 7 7 7 7 7 7 7 9 7 2 2 7 8 8 7 2 7 7 7 7 7 7 7 7 7 7 7 7 7 7 7 7 9 7\n",
      " 7 7]\n",
      "X Train shape :  (14987, 150)\n",
      "Y Train shape :  (14987, 150)\n",
      "X Val shape :  (3466, 150)\n",
      "Y Val shape :  (3466, 150)\n",
      "X Test shape :  (3684, 150)\n",
      "Y Test shape :  (3684, 150)\n"
     ]
    }
   ],
   "source": [
    "import keras.preprocessing.sequence as seq\n",
    "\n",
    "x_train_pad_matrix = seq.pad_sequences(X_train_num_list, 150)\n",
    "y_train_pad_matrix = seq.pad_sequences(Y_train_num_list, 150)\n",
    "\n",
    "x_val_pad_matrix = seq.pad_sequences(X_val_num_list, 150)\n",
    "y_val_pad_matrix = seq.pad_sequences(Y_val_num_list, 150)\n",
    "\n",
    "\n",
    "x_test_pad_matrix = seq.pad_sequences(X_test_num_list, 150)\n",
    "y_test_pad_matrix = seq.pad_sequences(Y_test_num_list, 150)\n",
    "\n",
    "print(\"x\")\n",
    "print(x_train_pad_matrix[34])\n",
    "print(\"y\")\n",
    "print(y_train_pad_matrix[34])\n",
    "\n",
    "print(\"X Train shape : \" , x_train_pad_matrix.shape)\n",
    "print(\"Y Train shape : \" , y_train_pad_matrix.shape)\n",
    "\n",
    "print(\"X Val shape : \" , x_val_pad_matrix.shape)\n",
    "print(\"Y Val shape : \" , y_val_pad_matrix.shape)\n",
    "\n",
    "print(\"X Test shape : \" , x_test_pad_matrix.shape)\n",
    "print(\"Y Test shape : \" , y_test_pad_matrix.shape)"
   ]
  },
  {
   "cell_type": "markdown",
   "metadata": {},
   "source": [
    "### Building a Simple Recurrent Neural Network\n",
    "\n",
    "    1. Create a simple recurrent network and train a model with the training set. As layers, you will use Embedding, SimpleRNN, and Dense.\n",
    "    2. Compile and fit your network. You will report the training and validation losses and accuracies and comment on the possible overfit.\n",
    "    3. Apply your network to the test set and report the accuracy you obtained. You will use the evaluate method.\n"
   ]
  },
  {
   "cell_type": "code",
   "execution_count": 16,
   "metadata": {},
   "outputs": [
    {
     "name": "stdout",
     "output_type": "stream",
     "text": [
      "Model: \"sequential_2\"\n",
      "_________________________________________________________________\n",
      "Layer (type)                 Output Shape              Param #   \n",
      "=================================================================\n",
      "embedding_2 (Embedding)      (None, None, 100)         40259700  \n",
      "_________________________________________________________________\n",
      "masking_1 (Masking)          (None, None, 100)         0         \n",
      "_________________________________________________________________\n",
      "simple_rnn_2 (SimpleRNN)     (None, None, 100)         20100     \n",
      "_________________________________________________________________\n",
      "dense_2 (Dense)              (None, None, 10)          1010      \n",
      "=================================================================\n",
      "Total params: 40,280,810\n",
      "Trainable params: 21,110\n",
      "Non-trainable params: 40,259,700\n",
      "_________________________________________________________________\n"
     ]
    }
   ],
   "source": [
    "from keras import backend as K\n",
    "from keras.layers import SimpleRNN\n",
    "from keras.models import Sequential\n",
    "from keras.layers import Embedding, SimpleRNN\n",
    "from keras.layers import Dense, Flatten, Reshape, Masking\n",
    "\n",
    "\n",
    "model = Sequential()\n",
    "model.add(Embedding(len(union_vocab_set) + 2,\n",
    "                           100, \n",
    "                           mask_zero=True,\n",
    "                           input_length=None))\n",
    "\n",
    "model.layers[0].set_weights([embedding_matrix])\n",
    "model.add(Masking(mask_value=0.0))\n",
    "\n",
    "# The default is True\n",
    "model.layers[0].trainable = False\n",
    "model.add(SimpleRNN(100, return_sequences=True))\n",
    "\n",
    "model.add(Dense(10, activation='softmax'))\n",
    "\n",
    "model.summary()\n",
    "\n",
    "model.compile(optimizer='rmsprop',\n",
    "              loss='categorical_crossentropy',\n",
    "             metrics=['acc'])"
   ]
  },
  {
   "cell_type": "code",
   "execution_count": 17,
   "metadata": {},
   "outputs": [
    {
     "name": "stdout",
     "output_type": "stream",
     "text": [
      "Train on 14987 samples, validate on 3466 samples\n",
      "Epoch 1/3\n",
      "14987/14987 [==============================] - 523s 35ms/step - loss: 0.0190 - acc: 0.9945 - val_loss: 0.0156 - val_acc: 0.9956\n",
      "Epoch 2/3\n",
      "14987/14987 [==============================] - 490s 33ms/step - loss: 0.0136 - acc: 0.9960 - val_loss: 0.0149 - val_acc: 0.9958\n",
      "Epoch 3/3\n",
      "14987/14987 [==============================] - 502s 34ms/step - loss: 0.0123 - acc: 0.9964 - val_loss: 0.0140 - val_acc: 0.9960\n"
     ]
    }
   ],
   "source": [
    "\n",
    "from keras.utils import to_categorical\n",
    "\n",
    "cat_train_y = to_categorical(y_train_pad_matrix)\n",
    "cat_val_y = to_categorical(y_val_pad_matrix)\n",
    "\n",
    "history = model.fit(x_train_pad_matrix, cat_train_y,\n",
    "                    epochs=3,\n",
    "                    batch_size = 1,\n",
    "                    validation_data = (x_val_pad_matrix, cat_val_y))"
   ]
  },
  {
   "cell_type": "markdown",
   "metadata": {},
   "source": [
    "### Plot"
   ]
  },
  {
   "cell_type": "code",
   "execution_count": 19,
   "metadata": {},
   "outputs": [
    {
     "data": {
      "image/png": "[encoded data removed]",
      "text/plain": [
       "<Figure size 432x288 with 1 Axes>"
      ]
     },
     "metadata": {
      "needs_background": "light"
     },
     "output_type": "display_data"
    },
    {
     "data": {
      "image/png": "[encoded data removed]",
      "text/plain": [
       "<Figure size 432x288 with 1 Axes>"
      ]
     },
     "metadata": {
      "needs_background": "light"
     },
     "output_type": "display_data"
    }
   ],
   "source": [
    "import matplotlib.pyplot as plt\n",
    "\n",
    "acc = history.history['acc']\n",
    "val_acc = history.history['val_acc']\n",
    "loss = history.history['loss']\n",
    "val_loss = history.history['val_loss']\n",
    "    \n",
    "epochs = range(len(acc))\n",
    "\n",
    "plt.plot(epochs, acc, 'bo', label='Training acc')\n",
    "plt.plot(epochs, val_acc, 'b', label='Validation acc')\n",
    "plt.title('Training and validation accuracy')\n",
    "plt.legend()\n",
    "    \n",
    "plt.figure()\n",
    "    \n",
    "plt.plot(epochs, loss, 'bo', label='Training loss')\n",
    "plt.plot(epochs, val_loss, 'b', label='Validation loss')\n",
    "plt.title('Training and validation loss')\n",
    "plt.legend()\n",
    "plt.show()"
   ]
  },
  {
   "cell_type": "markdown",
   "metadata": {},
   "source": [
    "### Predict"
   ]
  },
  {
   "cell_type": "code",
   "execution_count": 20,
   "metadata": {},
   "outputs": [
    {
     "name": "stdout",
     "output_type": "stream",
     "text": [
      "[[0 0 0 ... 0 0 7]\n",
      " [0 0 0 ... 7 7 7]\n",
      " [0 0 0 ... 0 9 2]\n",
      " ...\n",
      " [0 0 0 ... 7 7 7]\n",
      " [0 0 0 ... 7 7 7]\n",
      " [0 0 0 ... 7 8 7]]\n",
      "(3684, 150)\n",
      "[[0 0 0 ... 0 0 7]\n",
      " [0 0 0 ... 7 7 7]\n",
      " [0 0 0 ... 0 8 8]\n",
      " ...\n",
      " [0 0 0 ... 7 7 7]\n",
      " [0 0 0 ... 7 7 7]\n",
      " [0 0 0 ... 7 8 7]]\n",
      "3684/3684 [==============================] - 2s 502us/step\n",
      "test acc: 0.9957383275032043\n",
      "test loss: 0.01481256097854478\n"
     ]
    }
   ],
   "source": [
    "import numpy as np\n",
    "from sklearn.metrics import classification_report, confusion_matrix\n",
    "from keras.utils import to_categorical\n",
    "    \n",
    "    \n",
    "Y_pred = model.predict(x_test_pad_matrix)\n",
    "y_pred = np.argmax(Y_pred, axis=2)\n",
    "print(y_pred)\n",
    "\n",
    "cat_test_y=to_categorical(y_test_pad_matrix)\n",
    "true_class = np.argmax(cat_test_y, 2)\n",
    "\n",
    "print(true_class.shape)\n",
    "print(true_class)\n",
    "\n",
    "test_loss, test_acc = model.evaluate(x_test_pad_matrix, cat_test_y)\n",
    "print('test acc:', test_acc)\n",
    "print('test loss:', test_loss)\n"
   ]
  },
  {
   "cell_type": "markdown",
   "metadata": {},
   "source": [
    "## Evaluating your System\n",
    "You will use the official script to evaluate the performance of your system\n",
    "\n",
    "1. Use the predict method to predict the tags of the whole test set\n",
    "\n",
    "2. Write your results in a file, where the two last columns will be the hand-annotated tag and the predicted tag. The fields must be separated by a space and each line must end with a new line: \\n.\n",
    "\n",
    "3. If you save your results on a Windows machine, Python will use the default end-of-line sequence: \\r\\n. You will then need either to convert your file or to modify the way you save your file.\n",
    "4. Apply conlleval to your output. Report the F1 result.\n",
    "    Be aware that conlleval was designed for Unix and will break with Windows end-of-line conventions.\n",
    "5. Try to improve your model by modifying some parameters, adding layers, adding Bidirectional and Dropout.\n",
    "\n",
    "6. Evaluate your network again\n"
   ]
  },
  {
   "cell_type": "code",
   "execution_count": 25,
   "metadata": {},
   "outputs": [
    {
     "name": "stdout",
     "output_type": "stream",
     "text": [
      "[[0 0 0 ... 0 0 7]\n",
      " [0 0 0 ... 7 7 7]\n",
      " [0 0 0 ... 0 9 2]\n",
      " ...\n",
      " [0 0 0 ... 7 7 7]\n",
      " [0 0 0 ... 7 7 7]\n",
      " [0 0 0 ... 7 8 7]]\n",
      "(3684, 150)\n",
      "(3684, 150)\n",
      "[0 0 0 0 0 0 0 0 0 0 0 0 0 0 0 0 0 0 0 0 0 0 0 0 0 0 0 0 0 0 0 0 0 0 0 0 0\n",
      " 0 0 0 0 0 0 0 0 0 0 0 0 0 0 0 0 0 0 0 0 0 0 0 0 0 0 0 0 0 0 0 0 0 0 0 0 0\n",
      " 0 0 0 0 0 0 0 0 0 0 0 0 0 0 0 0 0 0 0 0 0 0 0 0 0 0 0 0 0 0 0 0 0 0 0 0 0\n",
      " 0 0 0 0 0 0 0 0 0 0 0 0 0 0 0 0 0 0 0 0 0 0 0 0 0 0 0 7 7 9 7 7 7 7 9 7 7\n",
      " 7 7]\n",
      "[0 0 0 0 0 0 0 0 0 0 0 0 0 0 0 0 0 0 0 0 0 0 0 0 0 0 0 0 0 0 0 0 0 0 0 0 0\n",
      " 0 0 0 0 0 0 0 0 0 0 0 0 0 0 0 0 0 0 0 0 0 0 0 0 0 0 0 0 0 0 0 0 0 0 0 0 0\n",
      " 0 0 0 0 0 0 0 0 0 0 0 0 0 0 0 0 0 0 0 0 0 0 0 0 0 0 0 0 0 0 0 0 0 0 0 0 0\n",
      " 0 0 0 0 0 0 0 0 0 0 0 0 0 0 0 0 0 0 0 0 0 0 0 0 0 0 0 7 7 9 7 7 7 7 8 7 7\n",
      " 7 7]\n"
     ]
    }
   ],
   "source": [
    "import numpy as np\n",
    "print(y_pred)\n",
    "f = open(\"predicted.txt\", \"w+\")\n",
    "for y in range(len(y_pred)):\n",
    "    for x in range(len(y_pred[y])):\n",
    "        if true_class[y][x] == 0:\n",
    "            continue\n",
    "        else:\n",
    "            f.write(idx_ner[true_class[y][x]])\n",
    "        f.write(\" \")\n",
    "                \n",
    "        if y_pred[y][x] == 0:\n",
    "            f.write('0')\n",
    "        else:\n",
    "            f.write(idx_ner[y_pred[y][x]])\n",
    "                \n",
    "        f.write(\"\\n\")\n",
    "f.close()\n",
    "\n",
    "print(y_pred.shape)\n",
    "print(true_class.shape)\n",
    "\n",
    "print(y_pred[1])\n",
    "print(true_class[1])\n",
    "\n",
    "\n",
    "# np.savetxt(\"predictions.txt\", (y_pred, true_class), newline=\" \",fmt=\"%d\")\n"
   ]
  },
  {
   "cell_type": "markdown",
   "metadata": {},
   "source": [
    "## Building a LSTM Network"
   ]
  },
  {
   "cell_type": "markdown",
   "metadata": {},
   "source": [
    "1. Create a simple LSTM network and train a model with the train set. As layers, you will use Embedding, LSTM, and Dense.\n",
    "2. Apply conlleval to your output. Report the F1 result.\n",
    "3. Try to improve your model by modifying some parameters, adding layers, adding Bidirectional, Dropout, possibly mixing SimpleRNN.\n",
    "4. Apply your network to the test set and report the accuracy you obtained. you need to reach a F1 of 82 to pass.\n"
   ]
  },
  {
   "cell_type": "code",
   "execution_count": 51,
   "metadata": {},
   "outputs": [
    {
     "name": "stdout",
     "output_type": "stream",
     "text": [
      "Model: \"sequential_9\"\n",
      "_________________________________________________________________\n",
      "Layer (type)                 Output Shape              Param #   \n",
      "=================================================================\n",
      "embedding_9 (Embedding)      (None, None, 100)         40259700  \n",
      "_________________________________________________________________\n",
      "spatial_dropout1d_5 (Spatial (None, None, 100)         0         \n",
      "_________________________________________________________________\n",
      "bidirectional_6 (Bidirection (None, None, 200)         160800    \n",
      "_________________________________________________________________\n",
      "dense_8 (Dense)              (None, None, 10)          2010      \n",
      "=================================================================\n",
      "Total params: 40,422,510\n",
      "Trainable params: 162,810\n",
      "Non-trainable params: 40,259,700\n",
      "_________________________________________________________________\n"
     ]
    }
   ],
   "source": [
    "from keras.layers import Dense, Dropout, Embedding, LSTM, Bidirectional, SpatialDropout1D\n",
    "from keras.callbacks import ModelCheckpoint\n",
    "\n",
    "lstm_model = Sequential() \n",
    "lstm_model.add(Embedding(len(union_vocab_set) + 2, \n",
    "                           100, \n",
    "                           mask_zero=True, \n",
    "                           input_length=None)) \n",
    "\n",
    "lstm_model.layers[0].set_weights([embedding_matrix]) \n",
    "lstm_model.layers[0].trainable = False \n",
    "lstm_model.add(SpatialDropout1D(0.2))\n",
    "#model.add(Dropout(0.2))\n",
    "lstm_model.add(Bidirectional(LSTM(100, return_sequences=True))) \n",
    "lstm_model.add(Dense(10, activation='softmax')) \n",
    "lstm_model.summary()\n",
    "\n",
    "lstm_model.compile(optimizer='rmsprop',\n",
    "              loss='categorical_crossentropy',\n",
    "             metrics=['acc'])\n",
    "\n"
   ]
  },
  {
   "cell_type": "code",
   "execution_count": 52,
   "metadata": {},
   "outputs": [
    {
     "name": "stdout",
     "output_type": "stream",
     "text": [
      "Train on 14987 samples, validate on 3466 samples\n",
      "Epoch 1/10\n",
      "14987/14987 [==============================] - 69s 5ms/step - loss: 0.0365 - acc: 0.8846 - val_loss: 0.0242 - val_acc: 0.9218\n",
      "Epoch 2/10\n",
      "14987/14987 [==============================] - 59s 4ms/step - loss: 0.0190 - acc: 0.9367 - val_loss: 0.0161 - val_acc: 0.9507\n",
      "Epoch 3/10\n",
      "14987/14987 [==============================] - 53s 4ms/step - loss: 0.0152 - acc: 0.9498 - val_loss: 0.0162 - val_acc: 0.9494\n",
      "Epoch 4/10\n",
      "14987/14987 [==============================] - 58s 4ms/step - loss: 0.0132 - acc: 0.9552 - val_loss: 0.0144 - val_acc: 0.9561\n",
      "Epoch 5/10\n",
      "14987/14987 [==============================] - 67s 4ms/step - loss: 0.0117 - acc: 0.9601 - val_loss: 0.0120 - val_acc: 0.9643\n",
      "Epoch 6/10\n",
      "14987/14987 [==============================] - 53s 4ms/step - loss: 0.0108 - acc: 0.9634 - val_loss: 0.0108 - val_acc: 0.9674\n",
      "Epoch 7/10\n",
      "14987/14987 [==============================] - 52s 3ms/step - loss: 0.0100 - acc: 0.9661 - val_loss: 0.0101 - val_acc: 0.9700\n",
      "Epoch 8/10\n",
      "14987/14987 [==============================] - 52s 3ms/step - loss: 0.0093 - acc: 0.9685 - val_loss: 0.0096 - val_acc: 0.9716\n",
      "Epoch 9/10\n",
      "14987/14987 [==============================] - 52s 3ms/step - loss: 0.0087 - acc: 0.9700 - val_loss: 0.0113 - val_acc: 0.9680\n",
      "Epoch 10/10\n",
      "14987/14987 [==============================] - 52s 3ms/step - loss: 0.0082 - acc: 0.9715 - val_loss: 0.0094 - val_acc: 0.9722\n"
     ]
    }
   ],
   "source": [
    "cat_train_y = to_categorical(y_train_pad_matrix)\n",
    "cat_val_y = to_categorical(y_val_pad_matrix)\n",
    "\n",
    "\n",
    "history = lstm_model.fit(x_train_pad_matrix, cat_train_y,\n",
    "                    epochs=10,\n",
    "                    batch_size = 128,\n",
    "                    validation_data = (x_val_pad_matrix, cat_val_y))"
   ]
  },
  {
   "cell_type": "code",
   "execution_count": 53,
   "metadata": {},
   "outputs": [
    {
     "data": {
      "image/png": "[encoded data removed]",
      "text/plain": [
       "<Figure size 432x288 with 1 Axes>"
      ]
     },
     "metadata": {
      "needs_background": "light"
     },
     "output_type": "display_data"
    },
    {
     "data": {
      "image/png": "[encoded data removed]",
      "text/plain": [
       "<Figure size 432x288 with 1 Axes>"
      ]
     },
     "metadata": {
      "needs_background": "light"
     },
     "output_type": "display_data"
    }
   ],
   "source": [
    "acc = history.history['acc']\n",
    "val_acc = history.history['val_acc']\n",
    "loss = history.history['loss']\n",
    "val_loss = history.history['val_loss']\n",
    "    \n",
    "epochs = range(len(acc))\n",
    "\n",
    "plt.plot(epochs, acc, 'bo', label='Training acc')\n",
    "plt.plot(epochs, val_acc, 'b', label='Validation acc')\n",
    "plt.title('Training and validation accuracy')\n",
    "plt.legend()\n",
    "    \n",
    "plt.figure()\n",
    "    \n",
    "plt.plot(epochs, loss, 'bo', label='Training loss')\n",
    "plt.plot(epochs, val_loss, 'b', label='Validation loss')\n",
    "plt.title('Training and validation loss')\n",
    "plt.legend()\n",
    "plt.show()"
   ]
  },
  {
   "cell_type": "code",
   "execution_count": 54,
   "metadata": {},
   "outputs": [
    {
     "name": "stdout",
     "output_type": "stream",
     "text": [
      "3684/3684 [==============================] - 4s 1ms/step\n",
      "test acc: 0.9656709432601929\n",
      "test loss: 0.009874654798782365\n"
     ]
    }
   ],
   "source": [
    "    \n",
    "    \n",
    "Y_pred = lstm_model.predict(x_test_pad_matrix)\n",
    "y_pred = np.argmax(Y_pred, axis=2)\n",
    "\n",
    "\n",
    "cat_test_y=to_categorical(y_test_pad_matrix)\n",
    "true_class = np.argmax(cat_test_y, 2)\n",
    "\n",
    "\n",
    "test_loss, test_acc = lstm_model.evaluate(x_test_pad_matrix, cat_test_y)\n",
    "print('test acc:', test_acc)\n",
    "print('test loss:', test_loss)"
   ]
  },
  {
   "cell_type": "code",
   "execution_count": 55,
   "metadata": {},
   "outputs": [
    {
     "name": "stdout",
     "output_type": "stream",
     "text": [
      "[[7 7 7 ... 7 7 7]\n",
      " [7 7 7 ... 7 7 7]\n",
      " [2 2 2 ... 2 8 2]\n",
      " ...\n",
      " [2 2 2 ... 7 7 7]\n",
      " [7 7 7 ... 7 7 7]\n",
      " [7 7 7 ... 7 8 7]]\n"
     ]
    }
   ],
   "source": [
    "print(y_pred)\n",
    "f = open(\"predicted_lstm.txt\", \"w+\")\n",
    "for y in range(len(y_pred)):\n",
    "    for x in range(len(y_pred[y])):\n",
    "        if true_class[y][x] == 0:\n",
    "            continue\n",
    "        else:\n",
    "            f.write(idx_ner[true_class[y][x]])\n",
    "        f.write(\" \")\n",
    "                \n",
    "        if y_pred[y][x] == 0:\n",
    "            f.write('0')\n",
    "        else:\n",
    "            f.write(idx_ner[y_pred[y][x]])\n",
    "                \n",
    "        f.write(\"\\n\")\n",
    "f.close()"
   ]
  },
  {
   "cell_type": "code",
   "execution_count": null,
   "metadata": {},
   "outputs": [],
   "source": []
  }
 ],
 "metadata": {
  "kernelspec": {
   "display_name": "Python 3",
   "language": "python",
   "name": "python3"
  },
  "language_info": {
   "codemirror_mode": {
    "name": "ipython",
    "version": 3
   },
   "file_extension": ".py",
   "mimetype": "text/x-python",
   "name": "python",
   "nbconvert_exporter": "python",
   "pygments_lexer": "ipython3",
   "version": "3.7.4"
  }
 },
 "nbformat": 4,
 "nbformat_minor": 2
}
