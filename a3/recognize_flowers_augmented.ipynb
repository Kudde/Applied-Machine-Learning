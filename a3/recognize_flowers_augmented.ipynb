{
 "cells": [
  {
   "cell_type": "markdown",
   "metadata": {},
   "source": [
    "### Convolutional Neural Network - Image Augmentation"
   ]
  },
  {
   "cell_type": "markdown",
   "metadata": {},
   "source": [
    "The flower dataset is relatively small. A way to expand such datasets is to generate artificial images by applying small transformations to existing images. Keras provides a built-in class for this: ImageDataGenerator. You will reuse it and apply it to the flower data set.\n",
    "- Using the network from the previous exercise, apply some transformations to your images. You can start from Chollet, Listing 5.11."
   ]
  },
  {
   "cell_type": "markdown",
   "metadata": {},
   "source": [
    "#### Scale Images"
   ]
  },
  {
   "cell_type": "code",
   "execution_count": 1,
   "metadata": {},
   "outputs": [
    {
     "name": "stderr",
     "output_type": "stream",
     "text": [
      "Using TensorFlow backend.\n"
     ]
    },
    {
     "name": "stdout",
     "output_type": "stream",
     "text": [
      "Found 2654 images belonging to 5 classes.\n",
      "Found 865 images belonging to 5 classes.\n",
      "Found 865 images belonging to 5 classes.\n"
     ]
    }
   ],
   "source": [
    "from keras.preprocessing.image import ImageDataGenerator\n",
    "train_datagen = ImageDataGenerator(\n",
    "    rescale=1. / 255,\n",
    "    rotation_range=40,\n",
    "    width_shift_range=0.2,\n",
    "    height_shift_range=0.2,\n",
    "    shear_range=0.2,\n",
    "    zoom_range=0.2,\n",
    "    horizontal_flip=True,)\n",
    "val_datagen = ImageDataGenerator(rescale=1. / 255)\n",
    "test_datagen = ImageDataGenerator(rescale=1. / 255)\n",
    "\n",
    "TRAIN_DIR = 'flowers_split/train'\n",
    "VAL_DIR = 'flowers_split/validation'\n",
    "TEST_DIR = 'flowers_split/test'\n",
    "\n",
    "\n",
    "train_generator = train_datagen.flow_from_directory(\n",
    "    TRAIN_DIR,\n",
    "    target_size=(150, 150),\n",
    "    batch_size=20,\n",
    "    class_mode='categorical')\n",
    "\n",
    "validation_generator = test_datagen.flow_from_directory( \n",
    "    VAL_DIR,\n",
    "    target_size=(150, 150),\n",
    "    batch_size=20,\n",
    "    class_mode='categorical')\n",
    "\n",
    "test_generator = test_datagen.flow_from_directory( \n",
    "    TEST_DIR,\n",
    "    target_size=(150, 150),\n",
    "    batch_size=20,\n",
    "    shuffle=False,\n",
    "    class_mode='categorical')\n"
   ]
  },
  {
   "cell_type": "code",
   "execution_count": 4,
   "metadata": {},
   "outputs": [
    {
     "name": "stdout",
     "output_type": "stream",
     "text": [
      "data batch shape: (20, 150, 150, 3)\n",
      "labels batch shape: (20, 5)\n",
      "data batch shape: (20, 150, 150, 3)\n",
      "labels batch shape: (20, 5)\n",
      "data batch shape: (20, 150, 150, 3)\n",
      "labels batch shape: (20, 5)\n"
     ]
    }
   ],
   "source": [
    "for data_batch, labels_batch in train_generator:\n",
    "    print('data batch shape:', data_batch.shape)\n",
    "    print('labels batch shape:', labels_batch.shape)\n",
    "    break\n",
    "for data_batch, labels_batch in test_generator:\n",
    "    print('data batch shape:', data_batch.shape)\n",
    "    print('labels batch shape:', labels_batch.shape)\n",
    "    break\n",
    "for data_batch, labels_batch in validation_generator:\n",
    "    print('data batch shape:', data_batch.shape)\n",
    "    print('labels batch shape:', labels_batch.shape)\n",
    "    break"
   ]
  },
  {
   "cell_type": "markdown",
   "metadata": {},
   "source": [
    "#### Build Model"
   ]
  },
  {
   "cell_type": "code",
   "execution_count": 5,
   "metadata": {},
   "outputs": [],
   "source": [
    "from keras import layers\n",
    "from keras import models\n",
    "\n",
    "model = models.Sequential() \n",
    "model.add(layers.Conv2D(32, (3, 3), activation='relu',\n",
    "input_shape=(150, 150, 3))) \n",
    "model.add(layers.MaxPooling2D((2, 2)))\n",
    "model.add(layers.Conv2D(64, (3, 3), activation='relu')) \n",
    "model.add(layers.MaxPooling2D((2, 2))) \n",
    "model.add(layers.Conv2D(128, (3, 3), activation='relu')) \n",
    "model.add(layers.MaxPooling2D((2, 2))) \n",
    "model.add(layers.Conv2D(128, (3, 3), activation='relu')) \n",
    "model.add(layers.MaxPooling2D((2, 2))) \n",
    "model.add(layers.Flatten())\n",
    "model.add(layers.Dense(512, activation='relu')) \n",
    "#model.add(layers.Dense(1, activation='sigmoid'))\n",
    "model.add(layers.Dense(5, activation='softmax'))\n"
   ]
  },
  {
   "cell_type": "markdown",
   "metadata": {},
   "source": [
    "#### Compile"
   ]
  },
  {
   "cell_type": "code",
   "execution_count": 6,
   "metadata": {},
   "outputs": [],
   "source": [
    "from keras import optimizers\n",
    "model.compile(loss='categorical_crossentropy',\n",
    "              optimizer=optimizers.RMSprop(lr=1e-4),\n",
    "              metrics=['acc'])"
   ]
  },
  {
   "cell_type": "markdown",
   "metadata": {},
   "source": [
    "#### Fit the model"
   ]
  },
  {
   "cell_type": "code",
   "execution_count": 7,
   "metadata": {},
   "outputs": [
    {
     "name": "stdout",
     "output_type": "stream",
     "text": [
      "Epoch 1/50\n",
      "132/132 [==============================] - 52s 391ms/step - loss: 1.3615 - acc: 0.3899 - val_loss: 1.4949 - val_acc: 0.4512\n",
      "Epoch 2/50\n",
      "132/132 [==============================] - 50s 378ms/step - loss: 1.2063 - acc: 0.4806 - val_loss: 1.2027 - val_acc: 0.5325\n",
      "Epoch 3/50\n",
      "132/132 [==============================] - 45s 339ms/step - loss: 1.1471 - acc: 0.5266 - val_loss: 0.8150 - val_acc: 0.5491\n",
      "Epoch 4/50\n",
      "132/132 [==============================] - 48s 362ms/step - loss: 1.1082 - acc: 0.5509 - val_loss: 0.8006 - val_acc: 0.5527\n",
      "Epoch 5/50\n",
      "132/132 [==============================] - 46s 348ms/step - loss: 1.0610 - acc: 0.5759 - val_loss: 0.9945 - val_acc: 0.5716\n",
      "Epoch 6/50\n",
      "132/132 [==============================] - 48s 366ms/step - loss: 1.0111 - acc: 0.5998 - val_loss: 1.0161 - val_acc: 0.6083\n",
      "Epoch 7/50\n",
      "132/132 [==============================] - 46s 349ms/step - loss: 0.9814 - acc: 0.6082 - val_loss: 0.9964 - val_acc: 0.6296\n",
      "Epoch 8/50\n",
      "132/132 [==============================] - 46s 345ms/step - loss: 0.9618 - acc: 0.6333 - val_loss: 0.8718 - val_acc: 0.6521\n",
      "Epoch 9/50\n",
      "132/132 [==============================] - 46s 351ms/step - loss: 0.9280 - acc: 0.6291 - val_loss: 0.9684 - val_acc: 0.6438\n",
      "Epoch 10/50\n",
      "132/132 [==============================] - 46s 350ms/step - loss: 0.9130 - acc: 0.6386 - val_loss: 0.9114 - val_acc: 0.6024\n",
      "Epoch 11/50\n",
      "132/132 [==============================] - 46s 348ms/step - loss: 0.8986 - acc: 0.6420 - val_loss: 1.0629 - val_acc: 0.6604\n",
      "Epoch 12/50\n",
      "132/132 [==============================] - 46s 347ms/step - loss: 0.8747 - acc: 0.6572 - val_loss: 1.2741 - val_acc: 0.6284\n",
      "Epoch 13/50\n",
      "132/132 [==============================] - 46s 351ms/step - loss: 0.8574 - acc: 0.6655 - val_loss: 0.9822 - val_acc: 0.6012\n",
      "Epoch 14/50\n",
      "132/132 [==============================] - 49s 372ms/step - loss: 0.8498 - acc: 0.6651 - val_loss: 0.6936 - val_acc: 0.6686\n",
      "Epoch 15/50\n",
      "132/132 [==============================] - 47s 358ms/step - loss: 0.8396 - acc: 0.6705 - val_loss: 1.1925 - val_acc: 0.7053\n",
      "Epoch 16/50\n",
      "132/132 [==============================] - 47s 354ms/step - loss: 0.8297 - acc: 0.6731 - val_loss: 0.6876 - val_acc: 0.7041\n",
      "Epoch 17/50\n",
      "132/132 [==============================] - 47s 357ms/step - loss: 0.8081 - acc: 0.6936 - val_loss: 1.3288 - val_acc: 0.6521\n",
      "Epoch 18/50\n",
      "132/132 [==============================] - 48s 364ms/step - loss: 0.7832 - acc: 0.6932 - val_loss: 1.1038 - val_acc: 0.6876\n",
      "Epoch 19/50\n",
      "132/132 [==============================] - 51s 386ms/step - loss: 0.7979 - acc: 0.6920 - val_loss: 0.8317 - val_acc: 0.7041\n",
      "Epoch 20/50\n",
      "132/132 [==============================] - 47s 355ms/step - loss: 0.7747 - acc: 0.6994 - val_loss: 0.7019 - val_acc: 0.6923\n",
      "Epoch 21/50\n",
      "132/132 [==============================] - 47s 356ms/step - loss: 0.7758 - acc: 0.7043 - val_loss: 0.9562 - val_acc: 0.6970\n",
      "Epoch 22/50\n",
      "132/132 [==============================] - 46s 352ms/step - loss: 0.7692 - acc: 0.6962 - val_loss: 0.5321 - val_acc: 0.6639\n",
      "Epoch 23/50\n",
      "132/132 [==============================] - 48s 367ms/step - loss: 0.7527 - acc: 0.7085 - val_loss: 0.8431 - val_acc: 0.7195\n",
      "Epoch 24/50\n",
      "132/132 [==============================] - 48s 361ms/step - loss: 0.7450 - acc: 0.7027 - val_loss: 0.5925 - val_acc: 0.6627\n",
      "Epoch 25/50\n",
      "132/132 [==============================] - 49s 371ms/step - loss: 0.7261 - acc: 0.7213 - val_loss: 0.4885 - val_acc: 0.7183\n",
      "Epoch 26/50\n",
      "132/132 [==============================] - 48s 365ms/step - loss: 0.7191 - acc: 0.7118 - val_loss: 0.9148 - val_acc: 0.7290\n",
      "Epoch 27/50\n",
      "132/132 [==============================] - 50s 378ms/step - loss: 0.7205 - acc: 0.7168 - val_loss: 0.3853 - val_acc: 0.7101\n",
      "Epoch 28/50\n",
      "132/132 [==============================] - 49s 371ms/step - loss: 0.6806 - acc: 0.7430 - val_loss: 1.0807 - val_acc: 0.7041\n",
      "Epoch 29/50\n",
      "132/132 [==============================] - 51s 389ms/step - loss: 0.7136 - acc: 0.7251 - val_loss: 0.6592 - val_acc: 0.6959\n",
      "Epoch 30/50\n",
      "132/132 [==============================] - 48s 367ms/step - loss: 0.6861 - acc: 0.7297 - val_loss: 1.1861 - val_acc: 0.6521\n",
      "Epoch 31/50\n",
      "132/132 [==============================] - 52s 393ms/step - loss: 0.6894 - acc: 0.7278 - val_loss: 0.3524 - val_acc: 0.7396\n",
      "Epoch 32/50\n",
      "132/132 [==============================] - 53s 402ms/step - loss: 0.6762 - acc: 0.7422 - val_loss: 0.8913 - val_acc: 0.7207\n",
      "Epoch 33/50\n",
      "132/132 [==============================] - 50s 375ms/step - loss: 0.6741 - acc: 0.7394 - val_loss: 0.3773 - val_acc: 0.7598\n",
      "Epoch 34/50\n",
      "132/132 [==============================] - 49s 374ms/step - loss: 0.6609 - acc: 0.7325 - val_loss: 1.1044 - val_acc: 0.7183\n",
      "Epoch 35/50\n",
      "132/132 [==============================] - 49s 369ms/step - loss: 0.6754 - acc: 0.7392 - val_loss: 0.7189 - val_acc: 0.6970\n",
      "Epoch 36/50\n",
      "132/132 [==============================] - 48s 363ms/step - loss: 0.6434 - acc: 0.7472 - val_loss: 0.9819 - val_acc: 0.7183\n",
      "Epoch 37/50\n",
      "132/132 [==============================] - 49s 373ms/step - loss: 0.6474 - acc: 0.7513 - val_loss: 0.3755 - val_acc: 0.7467\n",
      "Epoch 38/50\n",
      "132/132 [==============================] - 53s 404ms/step - loss: 0.6462 - acc: 0.7475 - val_loss: 0.5494 - val_acc: 0.7562\n",
      "Epoch 39/50\n",
      "132/132 [==============================] - 51s 384ms/step - loss: 0.6479 - acc: 0.7451 - val_loss: 0.9307 - val_acc: 0.7124\n",
      "Epoch 40/50\n",
      "132/132 [==============================] - 45s 342ms/step - loss: 0.6456 - acc: 0.7454 - val_loss: 0.4449 - val_acc: 0.7491\n",
      "Epoch 41/50\n",
      "132/132 [==============================] - 45s 342ms/step - loss: 0.6253 - acc: 0.7597 - val_loss: 0.7664 - val_acc: 0.7396\n",
      "Epoch 42/50\n",
      "132/132 [==============================] - 45s 343ms/step - loss: 0.6221 - acc: 0.7585 - val_loss: 1.1760 - val_acc: 0.7231\n",
      "Epoch 43/50\n",
      "132/132 [==============================] - 45s 343ms/step - loss: 0.6146 - acc: 0.7661 - val_loss: 0.7841 - val_acc: 0.7527\n",
      "Epoch 44/50\n",
      "132/132 [==============================] - 45s 342ms/step - loss: 0.5975 - acc: 0.7798 - val_loss: 0.0210 - val_acc: 0.7361\n",
      "Epoch 45/50\n",
      "132/132 [==============================] - 45s 343ms/step - loss: 0.6035 - acc: 0.7720 - val_loss: 0.4585 - val_acc: 0.7314\n",
      "Epoch 46/50\n",
      "132/132 [==============================] - 45s 340ms/step - loss: 0.6062 - acc: 0.7658 - val_loss: 1.2406 - val_acc: 0.7432\n",
      "Epoch 47/50\n",
      "132/132 [==============================] - 45s 340ms/step - loss: 0.5968 - acc: 0.7755 - val_loss: 0.4241 - val_acc: 0.7598\n",
      "Epoch 48/50\n",
      "132/132 [==============================] - 45s 341ms/step - loss: 0.5791 - acc: 0.7814 - val_loss: 1.5683 - val_acc: 0.7385\n",
      "Epoch 49/50\n",
      "132/132 [==============================] - 45s 341ms/step - loss: 0.5855 - acc: 0.7725 - val_loss: 0.7307 - val_acc: 0.7728\n",
      "Epoch 50/50\n",
      "132/132 [==============================] - 45s 340ms/step - loss: 0.5641 - acc: 0.7901 - val_loss: 0.5345 - val_acc: 0.7609\n"
     ]
    }
   ],
   "source": [
    "history = model.fit_generator( train_generator,\n",
    "      steps_per_epoch=2654//20,\n",
    "      epochs=50,\n",
    "      validation_data=validation_generator,\n",
    "      validation_steps=865//20)"
   ]
  },
  {
   "cell_type": "markdown",
   "metadata": {},
   "source": [
    "#### Save the model"
   ]
  },
  {
   "cell_type": "code",
   "execution_count": 56,
   "metadata": {},
   "outputs": [],
   "source": [
    "model.save('flower_picker_x1000_50.h5')"
   ]
  },
  {
   "cell_type": "markdown",
   "metadata": {},
   "source": [
    "#### Load the model"
   ]
  },
  {
   "cell_type": "code",
   "execution_count": 3,
   "metadata": {},
   "outputs": [],
   "source": [
    "from keras.models import load_model\n",
    "model = load_model('flower_picker_x1000_50.h5')"
   ]
  },
  {
   "cell_type": "markdown",
   "metadata": {},
   "source": [
    "#### Display Loss and Acc"
   ]
  },
  {
   "cell_type": "code",
   "execution_count": 9,
   "metadata": {},
   "outputs": [
    {
     "data": {
      "image/png": "[encoded data removed]",
      "text/plain": [
       "<Figure size 432x288 with 1 Axes>"
      ]
     },
     "metadata": {
      "needs_background": "light"
     },
     "output_type": "display_data"
    },
    {
     "data": {
      "image/png": "[encoded data removed]",
      "text/plain": [
       "<Figure size 432x288 with 1 Axes>"
      ]
     },
     "metadata": {
      "needs_background": "light"
     },
     "output_type": "display_data"
    }
   ],
   "source": [
    "import matplotlib.pyplot as plt\n",
    "acc = history.history['acc']\n",
    "val_acc = history.history['val_acc'] \n",
    "loss = history.history['loss'] \n",
    "val_loss = history.history['val_loss']\n",
    "epochs = range(1, len(acc) + 1)\n",
    "plt.plot(epochs, acc, 'bo', label='Training acc') \n",
    "plt.plot(epochs, val_acc, 'b', label='Validation acc') \n",
    "plt.title('Training and validation accuracy') \n",
    "plt.legend()\n",
    "plt.figure()\n",
    "plt.plot(epochs, loss, 'bo', label='Training loss')\n",
    "plt.plot(epochs, val_loss, 'b', label='Validation loss')\n",
    "plt.title('Training and validation loss')\n",
    "plt.legend()\n",
    "plt.show()"
   ]
  },
  {
   "cell_type": "code",
   "execution_count": 4,
   "metadata": {},
   "outputs": [
    {
     "name": "stdout",
     "output_type": "stream",
     "text": [
      "test acc: 0.7878172397613525\n",
      "test loss: 0.3075708746910095\n",
      "Confusion Matrix\n",
      "[[145  12  10   4   4]\n",
      " [ 16 174   3   5   5]\n",
      " [ 12   7 115   3  21]\n",
      " [  5  21   4 106   4]\n",
      " [  5  10  26   6 142]]\n",
      "Classification Report\n",
      "              precision    recall  f1-score   support\n",
      "\n",
      "       Daisy       0.79      0.83      0.81       175\n",
      "   Dandelion       0.78      0.86      0.81       203\n",
      "        Rose       0.73      0.73      0.73       158\n",
      "   Sunflower       0.85      0.76      0.80       140\n",
      "       Tulip       0.81      0.75      0.78       189\n",
      "\n",
      "    accuracy                           0.79       865\n",
      "   macro avg       0.79      0.78      0.79       865\n",
      "weighted avg       0.79      0.79      0.79       865\n",
      "\n"
     ]
    }
   ],
   "source": [
    "from sklearn.metrics import classification_report, confusion_matrix\n",
    "import numpy as np\n",
    "\n",
    "test_loss, test_acc = model.evaluate_generator(test_generator, steps=50) \n",
    "print('test acc:', test_acc)\n",
    "print('test loss:', test_loss)\n",
    "\n",
    "Y_pred = model.predict(test_generator)\n",
    "y_pred = np.argmax(Y_pred, axis=1)\n",
    "print('Confusion Matrix')\n",
    "print(confusion_matrix(test_generator.classes, y_pred))\n",
    "print('Classification Report')\n",
    "target_names = ['Daisy', 'Dandelion', 'Rose', 'Sunflower', 'Tulip']\n",
    "print(classification_report(test_generator.classes, y_pred, target_names=target_names))"
   ]
  },
  {
   "cell_type": "code",
   "execution_count": null,
   "metadata": {},
   "outputs": [],
   "source": []
  }
 ],
 "metadata": {
  "kernelspec": {
   "display_name": "Python 3",
   "language": "python",
   "name": "python3"
  },
  "language_info": {
   "codemirror_mode": {
    "name": "ipython",
    "version": 3
   },
   "file_extension": ".py",
   "mimetype": "text/x-python",
   "name": "python",
   "nbconvert_exporter": "python",
   "pygments_lexer": "ipython3",
   "version": "3.7.4"
  }
 },
 "nbformat": 4,
 "nbformat_minor": 2
}
