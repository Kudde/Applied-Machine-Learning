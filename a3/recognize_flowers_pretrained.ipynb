{
 "cells": [
  {
   "cell_type": "markdown",
   "metadata": {},
   "source": [
    "### Convolutional Neural Network - Pretrained Convolutional Base"
   ]
  },
  {
   "cell_type": "markdown",
   "metadata": {},
   "source": [
    "Some research teams have trained convolutional neural networks on much larger datasets. We have seen during the lecture that the networks can model conceptual patterns as they go through the layers. This was identified by Le Cun in his first experiments (http://yann.lecun.com/exdb/lenet/). In this last part, you will train classifiers on top of a pretrained convolutional base.\n",
    "1. Build a network that consists of the Inception V3 convolutional base and two dense layers. As in Chollet, Listing 5.17, you will program an  function.\n",
    "\n",
    "    `extract_features()`\n",
    "\n",
    "2. Train your network and report the training and validation losses and accuracies.\n",
    "3. Apply your network to the test set and report the accuracy as well as the confusion matrix you obtained.\n",
    "4. Modify your program to include an image transformer. Train a new model.\n",
    "5. Apply your network to the test set and report the accuracy as well as the confusion matrix you obtained."
   ]
  },
  {
   "cell_type": "markdown",
   "metadata": {},
   "source": [
    "#### Scale Images"
   ]
  },
  {
   "cell_type": "code",
   "execution_count": 5,
   "metadata": {},
   "outputs": [],
   "source": [
    "from keras.applications import InceptionV3\n",
    "conv_base = InceptionV3(weights='imagenet',\n",
    "include_top=False,\n",
    "input_shape=(150, 150, 3))"
   ]
  },
  {
   "cell_type": "code",
   "execution_count": 6,
   "metadata": {},
   "outputs": [
    {
     "name": "stdout",
     "output_type": "stream",
     "text": [
      "Found 2654 images belonging to 5 classes.\n",
      "Found 865 images belonging to 5 classes.\n",
      "Found 865 images belonging to 5 classes.\n"
     ]
    },
    {
     "data": {
      "text/plain": [
       "\"\\ntrain_generator = train_datagen.flow_from_directory(\\n    TRAIN_DIR,\\n    target_size=(150, 150),\\n    batch_size=batch_size,\\n    class_mode='categorical')\\n\\nvalidation_generator = test_datagen.flow_from_directory( \\n    VAL_DIR,\\n    target_size=(150, 150),\\n    batch_size=batch_size,\\n    class_mode='categorical')\\n\\ntest_generator = test_datagen.flow_from_directory( \\n    TEST_DIR,\\n    target_size=(150, 150),\\n    batch_size=batch_size,\\n    class_mode='categorical')\\n    \""
      ]
     },
     "execution_count": 6,
     "metadata": {},
     "output_type": "execute_result"
    }
   ],
   "source": [
    "from keras.preprocessing.image import ImageDataGenerator\n",
    "import numpy as np\n",
    "import os\n",
    "\"\"\"\n",
    "train_datagen = ImageDataGenerator(\n",
    "rescale=1. / 255,\n",
    "rotation_range=40,\n",
    "width_shift_range=0.2,\n",
    "height_shift_range=0.2,\n",
    "shear_range=0.2,\n",
    "zoom_range=0.2,\n",
    "horizontal_flip=True,)\n",
    "val_datagen = ImageDataGenerator(rescale=1. / 255)\n",
    "test_datagen = ImageDataGenerator(rescale=1. / 255)\n",
    "\"\"\"\n",
    "datagen = ImageDataGenerator(rescale=1./255)\n",
    "batch_size = 20\n",
    "\n",
    "TRAIN_DIR = 'flowers_split/train'\n",
    "VAL_DIR = 'flowers_split/validation'\n",
    "TEST_DIR = 'flowers_split/test'\n",
    "\n",
    "def extract_features(directory, sample_count):\n",
    "    features = np.zeros(shape=(sample_count, 3, 3, 2048))\n",
    "    labels = np.zeros(shape=(sample_count,5))\n",
    "    generator = datagen.flow_from_directory(\n",
    "        directory, \n",
    "        target_size = (150, 150),\n",
    "        batch_size = batch_size,\n",
    "        class_mode = 'categorical')\n",
    "    i = 0\n",
    "    for inputs_batch, labels_batch in generator:\n",
    "        features_batch = conv_base.predict(inputs_batch)\n",
    "        features[i*batch_size : (i+1)*batch_size] = features_batch\n",
    "        labels[i*batch_size : (i+1)*batch_size] = labels_batch\n",
    "        i += 1\n",
    "        if i * batch_size >= sample_count:\n",
    "            break\n",
    "    return features, labels\n",
    "\n",
    "train_features, train_labels = extract_features(TRAIN_DIR, 2654)\n",
    "validation_features, validation_labels = extract_features(VAL_DIR, 865)\n",
    "test_features, test_labels = extract_features(TEST_DIR, 865)\n",
    "\n",
    "train_features = np.reshape(train_features, (2654, 3*3* 2048))\n",
    "validation_features = np.reshape(validation_features, (865, 3*3* 2048))\n",
    "test_features = np.reshape(test_features, (865, 3*3* 2048))\n",
    "\n",
    "\"\"\"\n",
    "train_generator = train_datagen.flow_from_directory(\n",
    "    TRAIN_DIR,\n",
    "    target_size=(150, 150),\n",
    "    batch_size=batch_size,\n",
    "    class_mode='categorical')\n",
    "\n",
    "validation_generator = test_datagen.flow_from_directory( \n",
    "    VAL_DIR,\n",
    "    target_size=(150, 150),\n",
    "    batch_size=batch_size,\n",
    "    class_mode='categorical')\n",
    "\n",
    "test_generator = test_datagen.flow_from_directory( \n",
    "    TEST_DIR,\n",
    "    target_size=(150, 150),\n",
    "    batch_size=batch_size,\n",
    "    class_mode='categorical')\n",
    "    \"\"\"\n"
   ]
  },
  {
   "cell_type": "code",
   "execution_count": 7,
   "metadata": {},
   "outputs": [
    {
     "ename": "NameError",
     "evalue": "name 'train_generator' is not defined",
     "output_type": "error",
     "traceback": [
      "\u001b[0;31m---------------------------------------------------------------------------\u001b[0m",
      "\u001b[0;31mNameError\u001b[0m                                 Traceback (most recent call last)",
      "\u001b[0;32m<ipython-input-7-4941c212f770>\u001b[0m in \u001b[0;36m<module>\u001b[0;34m\u001b[0m\n\u001b[0;32m----> 1\u001b[0;31m \u001b[0;32mfor\u001b[0m \u001b[0mdata_batch\u001b[0m\u001b[0;34m,\u001b[0m \u001b[0mlabels_batch\u001b[0m \u001b[0;32min\u001b[0m \u001b[0mtrain_generator\u001b[0m\u001b[0;34m:\u001b[0m\u001b[0;34m\u001b[0m\u001b[0;34m\u001b[0m\u001b[0m\n\u001b[0m\u001b[1;32m      2\u001b[0m     \u001b[0mprint\u001b[0m\u001b[0;34m(\u001b[0m\u001b[0;34m'data batch shape:'\u001b[0m\u001b[0;34m,\u001b[0m \u001b[0mdata_batch\u001b[0m\u001b[0;34m.\u001b[0m\u001b[0mshape\u001b[0m\u001b[0;34m)\u001b[0m\u001b[0;34m\u001b[0m\u001b[0;34m\u001b[0m\u001b[0m\n\u001b[1;32m      3\u001b[0m     \u001b[0mprint\u001b[0m\u001b[0;34m(\u001b[0m\u001b[0;34m'labels batch shape:'\u001b[0m\u001b[0;34m,\u001b[0m \u001b[0mlabels_batch\u001b[0m\u001b[0;34m.\u001b[0m\u001b[0mshape\u001b[0m\u001b[0;34m)\u001b[0m\u001b[0;34m\u001b[0m\u001b[0;34m\u001b[0m\u001b[0m\n\u001b[1;32m      4\u001b[0m     \u001b[0;32mbreak\u001b[0m\u001b[0;34m\u001b[0m\u001b[0;34m\u001b[0m\u001b[0m\n\u001b[1;32m      5\u001b[0m \u001b[0;32mfor\u001b[0m \u001b[0mdata_batch\u001b[0m\u001b[0;34m,\u001b[0m \u001b[0mlabels_batch\u001b[0m \u001b[0;32min\u001b[0m \u001b[0mtest_generator\u001b[0m\u001b[0;34m:\u001b[0m\u001b[0;34m\u001b[0m\u001b[0;34m\u001b[0m\u001b[0m\n",
      "\u001b[0;31mNameError\u001b[0m: name 'train_generator' is not defined"
     ]
    }
   ],
   "source": [
    "for data_batch, labels_batch in train_generator:\n",
    "    print('data batch shape:', data_batch.shape)\n",
    "    print('labels batch shape:', labels_batch.shape)\n",
    "    break\n",
    "for data_batch, labels_batch in test_generator:\n",
    "    print('data batch shape:', data_batch.shape)\n",
    "    print('labels batch shape:', labels_batch.shape)\n",
    "    break\n",
    "for data_batch, labels_batch in validation_generator:\n",
    "    print('data batch shape:', data_batch.shape)\n",
    "    print('labels batch shape:', labels_batch.shape)\n",
    "    break"
   ]
  },
  {
   "cell_type": "markdown",
   "metadata": {},
   "source": [
    "#### Build Model"
   ]
  },
  {
   "cell_type": "code",
   "execution_count": 8,
   "metadata": {},
   "outputs": [
    {
     "data": {
      "text/plain": [
       "\"\\nmodel = models.Sequential() \\nmodel.add(layers.Conv2D(32, (3, 3), activation='relu',\\ninput_shape=(150, 150, 3))) \\nmodel.add(layers.MaxPooling2D((2, 2)))\\nmodel.add(layers.Conv2D(64, (3, 3), activation='relu')) \\nmodel.add(layers.MaxPooling2D((2, 2))) \\nmodel.add(layers.Conv2D(128, (3, 3), activation='relu')) \\nmodel.add(layers.MaxPooling2D((2, 2))) \\nmodel.add(layers.Conv2D(128, (3, 3), activation='relu')) \\nmodel.add(layers.MaxPooling2D((2, 2))) \\nmodel.add(layers.Flatten())\\nmodel.add(layers.Dense(512, activation='relu')) \\n#model.add(layers.Dense(1, activation='sigmoid'))\\nmodel.add(layers.Dense(5, activation='softmax'))\\n\""
      ]
     },
     "execution_count": 8,
     "metadata": {},
     "output_type": "execute_result"
    }
   ],
   "source": [
    "from keras import models\n",
    "from keras import layers\n",
    "from keras import optimizers\n",
    "model = models.Sequential()\n",
    "model.add(layers.Dense(256, activation='relu', input_dim=3* 3 * 2048))\n",
    "model.add(layers.Dropout(0.5))\n",
    "model.add(layers.Dense(5, activation='softmax'))\n",
    "\n",
    "\"\"\"\n",
    "model = models.Sequential() \n",
    "model.add(layers.Conv2D(32, (3, 3), activation='relu',\n",
    "input_shape=(150, 150, 3))) \n",
    "model.add(layers.MaxPooling2D((2, 2)))\n",
    "model.add(layers.Conv2D(64, (3, 3), activation='relu')) \n",
    "model.add(layers.MaxPooling2D((2, 2))) \n",
    "model.add(layers.Conv2D(128, (3, 3), activation='relu')) \n",
    "model.add(layers.MaxPooling2D((2, 2))) \n",
    "model.add(layers.Conv2D(128, (3, 3), activation='relu')) \n",
    "model.add(layers.MaxPooling2D((2, 2))) \n",
    "model.add(layers.Flatten())\n",
    "model.add(layers.Dense(512, activation='relu')) \n",
    "#model.add(layers.Dense(1, activation='sigmoid'))\n",
    "model.add(layers.Dense(5, activation='softmax'))\n",
    "\"\"\""
   ]
  },
  {
   "cell_type": "markdown",
   "metadata": {},
   "source": [
    "#### Compile"
   ]
  },
  {
   "cell_type": "code",
   "execution_count": 9,
   "metadata": {},
   "outputs": [],
   "source": [
    "from keras import optimizers\n",
    "model.compile(loss='categorical_crossentropy',\n",
    "              optimizer=optimizers.RMSprop(lr=1e-4),\n",
    "              metrics=['acc'])"
   ]
  },
  {
   "cell_type": "markdown",
   "metadata": {},
   "source": [
    "#### Fit the model"
   ]
  },
  {
   "cell_type": "code",
   "execution_count": 10,
   "metadata": {},
   "outputs": [
    {
     "name": "stdout",
     "output_type": "stream",
     "text": [
      "Train on 2654 samples, validate on 865 samples\n",
      "Epoch 1/30\n",
      "2654/2654 [==============================] - 7s 2ms/step - loss: 1.3088 - acc: 0.6112 - val_loss: 0.7568 - val_acc: 0.7237\n",
      "Epoch 2/30\n",
      "2654/2654 [==============================] - 7s 2ms/step - loss: 0.7546 - acc: 0.7558 - val_loss: 0.7599 - val_acc: 0.7549\n",
      "Epoch 3/30\n",
      "2654/2654 [==============================] - 6s 2ms/step - loss: 0.5762 - acc: 0.8161 - val_loss: 0.6101 - val_acc: 0.7965\n",
      "Epoch 4/30\n",
      "2654/2654 [==============================] - 7s 3ms/step - loss: 0.4865 - acc: 0.8440 - val_loss: 0.6213 - val_acc: 0.8058\n",
      "Epoch 5/30\n",
      "2654/2654 [==============================] - 6s 2ms/step - loss: 0.4181 - acc: 0.8700 - val_loss: 0.8333 - val_acc: 0.7965\n",
      "Epoch 6/30\n",
      "2654/2654 [==============================] - 6s 2ms/step - loss: 0.3303 - acc: 0.8930 - val_loss: 0.9182 - val_acc: 0.7538\n",
      "Epoch 7/30\n",
      "2654/2654 [==============================] - 6s 2ms/step - loss: 0.2845 - acc: 0.9182 - val_loss: 0.7804 - val_acc: 0.8220\n",
      "Epoch 8/30\n",
      "2654/2654 [==============================] - 6s 2ms/step - loss: 0.2457 - acc: 0.9284 - val_loss: 0.8542 - val_acc: 0.8012\n",
      "Epoch 9/30\n",
      "2654/2654 [==============================] - 6s 2ms/step - loss: 0.2020 - acc: 0.9386 - val_loss: 0.8680 - val_acc: 0.8197\n",
      "Epoch 10/30\n",
      "2654/2654 [==============================] - 6s 2ms/step - loss: 0.1831 - acc: 0.9424 - val_loss: 0.7886 - val_acc: 0.8254\n",
      "Epoch 11/30\n",
      "2654/2654 [==============================] - 7s 2ms/step - loss: 0.1632 - acc: 0.9514 - val_loss: 0.8903 - val_acc: 0.8208\n",
      "Epoch 12/30\n",
      "2654/2654 [==============================] - 7s 3ms/step - loss: 0.1113 - acc: 0.9574 - val_loss: 0.8937 - val_acc: 0.8231\n",
      "Epoch 13/30\n",
      "2654/2654 [==============================] - 7s 3ms/step - loss: 0.1376 - acc: 0.9586 - val_loss: 0.9377 - val_acc: 0.8358\n",
      "Epoch 14/30\n",
      "2654/2654 [==============================] - 6s 2ms/step - loss: 0.1335 - acc: 0.9646 - val_loss: 1.2875 - val_acc: 0.7803\n",
      "Epoch 15/30\n",
      "2654/2654 [==============================] - 7s 2ms/step - loss: 0.1247 - acc: 0.9616 - val_loss: 1.0414 - val_acc: 0.8046\n",
      "Epoch 16/30\n",
      "2654/2654 [==============================] - 6s 2ms/step - loss: 0.1107 - acc: 0.9665 - val_loss: 1.0793 - val_acc: 0.8035\n",
      "Epoch 17/30\n",
      "2654/2654 [==============================] - 6s 2ms/step - loss: 0.0908 - acc: 0.9736 - val_loss: 1.0485 - val_acc: 0.8162\n",
      "Epoch 18/30\n",
      "2654/2654 [==============================] - 6s 2ms/step - loss: 0.0995 - acc: 0.9729 - val_loss: 1.1477 - val_acc: 0.8173\n",
      "Epoch 19/30\n",
      "2654/2654 [==============================] - 7s 3ms/step - loss: 0.0854 - acc: 0.9759 - val_loss: 1.1249 - val_acc: 0.8035\n",
      "Epoch 20/30\n",
      "2654/2654 [==============================] - 7s 3ms/step - loss: 0.0794 - acc: 0.9759 - val_loss: 1.0627 - val_acc: 0.8220\n",
      "Epoch 21/30\n",
      "2654/2654 [==============================] - 7s 3ms/step - loss: 0.0987 - acc: 0.9748 - val_loss: 1.2409 - val_acc: 0.8104\n",
      "Epoch 22/30\n",
      "2654/2654 [==============================] - 7s 3ms/step - loss: 0.0676 - acc: 0.9800 - val_loss: 1.1531 - val_acc: 0.8324\n",
      "Epoch 23/30\n",
      "2654/2654 [==============================] - 7s 3ms/step - loss: 0.0543 - acc: 0.9834 - val_loss: 1.1334 - val_acc: 0.8243\n",
      "Epoch 24/30\n",
      "2654/2654 [==============================] - 7s 3ms/step - loss: 0.0477 - acc: 0.9861 - val_loss: 1.3281 - val_acc: 0.8139\n",
      "Epoch 25/30\n",
      "2654/2654 [==============================] - 7s 3ms/step - loss: 0.0683 - acc: 0.9838 - val_loss: 1.1908 - val_acc: 0.8231\n",
      "Epoch 26/30\n",
      "2654/2654 [==============================] - 7s 3ms/step - loss: 0.0443 - acc: 0.9876 - val_loss: 1.2317 - val_acc: 0.8231\n",
      "Epoch 27/30\n",
      "2654/2654 [==============================] - 7s 3ms/step - loss: 0.0658 - acc: 0.9838 - val_loss: 1.1922 - val_acc: 0.8289\n",
      "Epoch 28/30\n",
      "2654/2654 [==============================] - 7s 3ms/step - loss: 0.0594 - acc: 0.9849 - val_loss: 1.3011 - val_acc: 0.8208\n",
      "Epoch 29/30\n",
      "2654/2654 [==============================] - 7s 3ms/step - loss: 0.0639 - acc: 0.9864 - val_loss: 1.2673 - val_acc: 0.8370\n",
      "Epoch 30/30\n",
      "2654/2654 [==============================] - 7s 2ms/step - loss: 0.0453 - acc: 0.9853 - val_loss: 1.2980 - val_acc: 0.8197\n"
     ]
    },
    {
     "data": {
      "text/plain": [
       "'history = model.fit_generator( train_generator,\\n      steps_per_epoch=2654//batch_size,\\n      epochs=50,\\n      validation_data=validation_generator,\\n      validation_steps=865//batch_size)'"
      ]
     },
     "execution_count": 10,
     "metadata": {},
     "output_type": "execute_result"
    }
   ],
   "source": [
    "history = model.fit(train_features, train_labels,\n",
    "epochs=30,\n",
    "batch_size=20,\n",
    "validation_data=(validation_features, validation_labels))\n",
    "\n",
    "\"\"\"history = model.fit_generator( train_generator,\n",
    "      steps_per_epoch=2654//batch_size,\n",
    "      epochs=50,\n",
    "      validation_data=validation_generator,\n",
    "      validation_steps=865//batch_size)\"\"\""
   ]
  },
  {
   "cell_type": "markdown",
   "metadata": {},
   "source": [
    "#### Save the model"
   ]
  },
  {
   "cell_type": "code",
   "execution_count": 28,
   "metadata": {},
   "outputs": [],
   "source": [
    "model.save('flower_picker_x2000_30.h5')"
   ]
  },
  {
   "cell_type": "markdown",
   "metadata": {},
   "source": [
    "#### Display Loss and Acc"
   ]
  },
  {
   "cell_type": "code",
   "execution_count": 12,
   "metadata": {},
   "outputs": [
    {
     "data": {
      "image/png": "[encoded data removed]",
      "text/plain": [
       "<Figure size 432x288 with 1 Axes>"
      ]
     },
     "metadata": {
      "needs_background": "light"
     },
     "output_type": "display_data"
    },
    {
     "data": {
      "image/png": "[encoded data removed]",
      "text/plain": [
       "<Figure size 432x288 with 1 Axes>"
      ]
     },
     "metadata": {
      "needs_background": "light"
     },
     "output_type": "display_data"
    }
   ],
   "source": [
    "import matplotlib.pyplot as plt\n",
    "acc = history.history['acc']\n",
    "val_acc = history.history['val_acc'] \n",
    "loss = history.history['loss'] \n",
    "val_loss = history.history['val_loss']\n",
    "epochs = range(1, len(acc) + 1)\n",
    "plt.plot(epochs, acc, 'bo', label='Training acc') \n",
    "plt.plot(epochs, val_acc, 'b', label='Validation acc') \n",
    "plt.title('Training and validation accuracy') \n",
    "plt.legend()\n",
    "plt.figure()\n",
    "plt.plot(epochs, loss, 'bo', label='Training loss')\n",
    "plt.plot(epochs, val_loss, 'b', label='Validation loss')\n",
    "plt.title('Training and validation loss')\n",
    "plt.legend()\n",
    "plt.show()"
   ]
  },
  {
   "cell_type": "code",
   "execution_count": 14,
   "metadata": {},
   "outputs": [
    {
     "name": "stdout",
     "output_type": "stream",
     "text": [
      "Confusion Matrix\n",
      "[[158   6   2   2   7]\n",
      " [ 13 182   2   2   4]\n",
      " [  2   3 129   5  19]\n",
      " [  5  10   5 117   3]\n",
      " [  1   7  10   6 165]]\n",
      "Classification Report\n",
      "              precision    recall  f1-score   support\n",
      "\n",
      "       Daisy       0.88      0.90      0.89       175\n",
      "   Dandelion       0.88      0.90      0.89       203\n",
      "        Rose       0.87      0.82      0.84       158\n",
      "   Sunflower       0.89      0.84      0.86       140\n",
      "       Tulip       0.83      0.87      0.85       189\n",
      "\n",
      "    accuracy                           0.87       865\n",
      "   macro avg       0.87      0.86      0.87       865\n",
      "weighted avg       0.87      0.87      0.87       865\n",
      "\n"
     ]
    }
   ],
   "source": [
    "from sklearn.metrics import classification_report, confusion_matrix\n",
    "import numpy as np\n",
    "\n",
    "# test_loss, test_acc = model.evaluate_generator(test_generator, steps=50) \n",
    "# print('test acc:', test_acc)\n",
    "# print('test loss:', test_loss)\n",
    "\n",
    "score, acc = model.evaluate(test_features, test_labels,\n",
    "                            batch_size=b20)\n",
    "print('Test score:', score)\n",
    "print('Test accuracy:', acc)\n",
    "\n",
    "Y_pred = model.predict(test_features)\n",
    "y_pred = np.argmax(Y_pred, axis=1)\n",
    "true_class = np.argmax(test_labels, 1)\n",
    "print('Confusion Matrix')\n",
    "print(confusion_matrix(true_class, y_pred))\n",
    "print('Classification Report')\n",
    "target_names = ['Daisy', 'Dandelion', 'Rose', 'Sunflower', 'Tulip']\n",
    "print(classification_report(true_class, y_pred, target_names=target_names))"
   ]
  },
  {
   "cell_type": "code",
   "execution_count": null,
   "metadata": {},
   "outputs": [],
   "source": []
  }
 ],
 "metadata": {
  "kernelspec": {
   "display_name": "Python 3",
   "language": "python",
   "name": "python3"
  },
  "language_info": {
   "codemirror_mode": {
    "name": "ipython",
    "version": 3
   },
   "file_extension": ".py",
   "mimetype": "text/x-python",
   "name": "python",
   "nbconvert_exporter": "python",
   "pygments_lexer": "ipython3",
   "version": "3.7.4"
  }
 },
 "nbformat": 4,
 "nbformat_minor": 2
}
