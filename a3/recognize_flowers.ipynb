{
 "cells": [
  {
   "cell_type": "markdown",
   "metadata": {},
   "source": [
    "### Convolutional Neural Network - Simple"
   ]
  },
  {
   "cell_type": "markdown",
   "metadata": {},
   "source": [
    "Create a simple convolutional network and train a model with the train set. You can start from the architecture proposed by Chollet, Listing 5.5, and a small number of epochs. Use the ImageDataGenerator class to scale your images as in the book:\n",
    "- You will need to modify some parameters so that your network handles **multiple classes**.\n",
    "    - Last Layer activation `softmax`\n",
    "    - Loss function `categorical_crossentropy`\n",
    "- You will also adjust the **number of steps** so that your generator in the fitting procedure sees all the samples.\n",
    "- You will report the training and validation losses and accuracies and comment on the possible overfit."
   ]
  },
  {
   "cell_type": "markdown",
   "metadata": {},
   "source": [
    "#### Scale Images"
   ]
  },
  {
   "cell_type": "code",
   "execution_count": 2,
   "metadata": {},
   "outputs": [
    {
     "name": "stderr",
     "output_type": "stream",
     "text": [
      "Using TensorFlow backend.\n"
     ]
    },
    {
     "name": "stdout",
     "output_type": "stream",
     "text": [
      "Found 2654 images belonging to 5 classes.\n",
      "Found 865 images belonging to 5 classes.\n",
      "Found 865 images belonging to 5 classes.\n"
     ]
    }
   ],
   "source": [
    "from keras.preprocessing.image import ImageDataGenerator\n",
    "train_datagen = ImageDataGenerator(rescale=1. / 255)\n",
    "val_datagen = ImageDataGenerator(rescale=1. / 255)\n",
    "test_datagen = ImageDataGenerator(rescale=1. / 255)\n",
    "\n",
    "TRAIN_DIR = 'flowers_split/train'\n",
    "VAL_DIR = 'flowers_split/validation'\n",
    "TEST_DIR = 'flowers_split/test'\n",
    "\n",
    "\n",
    "train_generator = train_datagen.flow_from_directory(\n",
    "    TRAIN_DIR,\n",
    "    target_size=(150, 150),\n",
    "    batch_size=20,\n",
    "    class_mode='categorical')\n",
    "\n",
    "validation_generator = val_datagen.flow_from_directory( \n",
    "    VAL_DIR,\n",
    "    target_size=(150, 150),\n",
    "    batch_size=20,\n",
    "    class_mode='categorical')\n",
    "\n",
    "test_generator = test_datagen.flow_from_directory( \n",
    "    TEST_DIR,\n",
    "    target_size=(150, 150),\n",
    "    batch_size=20,\n",
    "    shuffle=False,\n",
    "    class_mode='categorical')\n"
   ]
  },
  {
   "cell_type": "code",
   "execution_count": 3,
   "metadata": {},
   "outputs": [
    {
     "name": "stdout",
     "output_type": "stream",
     "text": [
      "Train\n",
      "data batch shape: (20, 150, 150, 3)\n",
      "labels batch shape: (20, 5)\n",
      "Validation\n",
      "data batch shape: (20, 150, 150, 3)\n",
      "labels batch shape: (20, 5)\n",
      "Test\n",
      "data batch shape: (20, 150, 150, 3)\n",
      "labels batch shape: (20, 5)\n"
     ]
    }
   ],
   "source": [
    "print(\"Train\")\n",
    "for data_batch, labels_batch in train_generator:\n",
    "    print('data batch shape:', data_batch.shape)\n",
    "    print('labels batch shape:', labels_batch.shape)\n",
    "    break\n",
    "print(\"Validation\")\n",
    "for data_batch, labels_batch in validation_generator:\n",
    "    print('data batch shape:', data_batch.shape)\n",
    "    print('labels batch shape:', labels_batch.shape)\n",
    "    break\n",
    "print(\"Test\")\n",
    "for data_batch, labels_batch in test_generator:\n",
    "    print('data batch shape:', data_batch.shape)\n",
    "    print('labels batch shape:', labels_batch.shape)\n",
    "    break\n"
   ]
  },
  {
   "cell_type": "markdown",
   "metadata": {},
   "source": [
    "#### Build Model"
   ]
  },
  {
   "cell_type": "code",
   "execution_count": 4,
   "metadata": {},
   "outputs": [],
   "source": [
    "from keras import layers\n",
    "from keras import models\n",
    "\n",
    "model = models.Sequential() \n",
    "model.add(layers.Conv2D(32, (3, 3)\n",
    "        , activation='relu'\n",
    "        ,input_shape=(150, 150, 3))) \n",
    "model.add(layers.MaxPooling2D((2, 2)))\n",
    "model.add(layers.Conv2D(64, (3, 3), activation='relu')) \n",
    "model.add(layers.MaxPooling2D((2, 2))) \n",
    "model.add(layers.Conv2D(128, (3, 3), activation='relu')) \n",
    "model.add(layers.MaxPooling2D((2, 2))) \n",
    "model.add(layers.Conv2D(128, (3, 3), activation='relu')) \n",
    "model.add(layers.MaxPooling2D((2, 2))) \n",
    "model.add(layers.Flatten())\n",
    "model.add(layers.Dense(512, activation='relu')) \n",
    "# model.add(layers.Dense(1, activation='sigmoid'))\n",
    "model.add(layers.Dense(5, activation = \"softmax\"))"
   ]
  },
  {
   "cell_type": "markdown",
   "metadata": {},
   "source": [
    "#### Compile"
   ]
  },
  {
   "cell_type": "code",
   "execution_count": 5,
   "metadata": {},
   "outputs": [],
   "source": [
    "from keras import optimizers\n",
    "model.compile(loss='categorical_crossentropy'\n",
    "              , optimizer=optimizers.RMSprop(lr=1e-4)\n",
    "              , metrics=['acc'])"
   ]
  },
  {
   "cell_type": "markdown",
   "metadata": {},
   "source": [
    "#### Fit the model"
   ]
  },
  {
   "cell_type": "code",
   "execution_count": 6,
   "metadata": {},
   "outputs": [
    {
     "name": "stdout",
     "output_type": "stream",
     "text": [
      "Epoch 1/10\n",
      "132/132 [==============================] - 49s 369ms/step - loss: 1.3187 - acc: 0.4233 - val_loss: 1.2110 - val_acc: 0.5047\n",
      "Epoch 2/10\n",
      "132/132 [==============================] - 55s 413ms/step - loss: 1.1330 - acc: 0.5289 - val_loss: 1.0077 - val_acc: 0.5278\n",
      "Epoch 3/10\n",
      "132/132 [==============================] - 50s 380ms/step - loss: 1.0471 - acc: 0.5793 - val_loss: 1.2215 - val_acc: 0.5479\n",
      "Epoch 4/10\n",
      "132/132 [==============================] - 52s 391ms/step - loss: 0.9828 - acc: 0.6147 - val_loss: 1.2154 - val_acc: 0.5598\n",
      "Epoch 5/10\n",
      "132/132 [==============================] - 49s 372ms/step - loss: 0.9268 - acc: 0.6424 - val_loss: 0.6028 - val_acc: 0.6237\n",
      "Epoch 6/10\n",
      "132/132 [==============================] - 49s 374ms/step - loss: 0.8859 - acc: 0.6484 - val_loss: 0.7999 - val_acc: 0.6414\n",
      "Epoch 7/10\n",
      "132/132 [==============================] - 48s 367ms/step - loss: 0.8200 - acc: 0.6886 - val_loss: 0.5509 - val_acc: 0.6225\n",
      "Epoch 8/10\n",
      "132/132 [==============================] - 51s 384ms/step - loss: 0.7817 - acc: 0.7013 - val_loss: 0.8202 - val_acc: 0.6000\n",
      "Epoch 9/10\n",
      "132/132 [==============================] - 51s 389ms/step - loss: 0.7438 - acc: 0.7164 - val_loss: 0.5718 - val_acc: 0.6083\n",
      "Epoch 10/10\n",
      "132/132 [==============================] - 52s 392ms/step - loss: 0.7002 - acc: 0.7346 - val_loss: 0.8957 - val_acc: 0.6462\n"
     ]
    }
   ],
   "source": [
    "history = model.fit_generator( \n",
    "      train_generator,\n",
    "      steps_per_epoch=2654//20,\n",
    "      epochs=10,\n",
    "      validation_data=validation_generator,\n",
    "      validation_steps=865//20)"
   ]
  },
  {
   "cell_type": "markdown",
   "metadata": {},
   "source": [
    "#### Save the model"
   ]
  },
  {
   "cell_type": "code",
   "execution_count": 6,
   "metadata": {},
   "outputs": [],
   "source": [
    "model.save('flower_picker_x1000.h5')"
   ]
  },
  {
   "cell_type": "markdown",
   "metadata": {},
   "source": [
    "#### Load the model"
   ]
  },
  {
   "cell_type": "code",
   "execution_count": null,
   "metadata": {},
   "outputs": [],
   "source": [
    "from keras.models import load_model\n",
    "model = load_model('flower_picker_x1000.h5')"
   ]
  },
  {
   "cell_type": "markdown",
   "metadata": {},
   "source": [
    "#### Display Loss and Acc"
   ]
  },
  {
   "cell_type": "code",
   "execution_count": 8,
   "metadata": {},
   "outputs": [
    {
     "data": {
      "image/png": "[encoded data removed]",
      "text/plain": [
       "<Figure size 432x288 with 1 Axes>"
      ]
     },
     "metadata": {
      "needs_background": "light"
     },
     "output_type": "display_data"
    },
    {
     "data": {
      "image/png": "[encoded data removed]",
      "text/plain": [
       "<Figure size 432x288 with 1 Axes>"
      ]
     },
     "metadata": {
      "needs_background": "light"
     },
     "output_type": "display_data"
    }
   ],
   "source": [
    "import matplotlib.pyplot as plt\n",
    "acc = history.history['acc']\n",
    "val_acc = history.history['val_acc'] \n",
    "loss = history.history['loss'] \n",
    "val_loss = history.history['val_loss']\n",
    "epochs = range(1, len(acc) + 1)\n",
    "plt.plot(epochs, acc, 'bo', label='Training acc') \n",
    "plt.plot(epochs, val_acc, 'b', label='Validation acc') \n",
    "plt.title('Training and validation accuracy') \n",
    "plt.legend()\n",
    "plt.figure()\n",
    "plt.plot(epochs, loss, 'bo', label='Training loss') \n",
    "plt.plot(epochs, val_loss, 'b', label='Validation loss') \n",
    "plt.title('Training and validation loss')\n",
    "plt.legend()\n",
    "plt.show()"
   ]
  },
  {
   "cell_type": "markdown",
   "metadata": {},
   "source": [
    "### Predict"
   ]
  },
  {
   "cell_type": "code",
   "execution_count": 7,
   "metadata": {},
   "outputs": [
    {
     "name": "stdout",
     "output_type": "stream",
     "text": [
      "test acc: 0.7238578796386719\n",
      "test loss: 0.5307108163833618\n",
      "Confusion Matrix\n",
      "[[143  16   4   5   7]\n",
      " [ 19 160   0  19   5]\n",
      " [ 29  14  74   4  37]\n",
      " [  8  12   3 114   3]\n",
      " [ 17  12  20  13 127]]\n",
      "Classification Report\n",
      "              precision    recall  f1-score   support\n",
      "\n",
      "       Daisy       0.55      0.79      0.65       150\n",
      "   Dandelion       0.70      0.69      0.69       216\n",
      "        Rose       0.68      0.43      0.53       159\n",
      "   Sunflower       0.68      0.74      0.71       141\n",
      "       Tulip       0.71      0.64      0.67       199\n",
      "\n",
      "    accuracy                           0.66       865\n",
      "   macro avg       0.66      0.66      0.65       865\n",
      "weighted avg       0.67      0.66      0.65       865\n",
      "\n"
     ]
    }
   ],
   "source": [
    "import numpy as np\n",
    "from sklearn.metrics import classification_report, confusion_matrix\n",
    "\n",
    "test_loss, test_acc = model.evaluate_generator(test_generator, steps=50) \n",
    "print('test acc:', test_acc)\n",
    "print('test loss:', test_loss)\n",
    "\n",
    "Y_pred = model.predict(test_generator)\n",
    "y_pred = np.argmax(Y_pred, axis=1)\n",
    "print('Confusion Matrix')\n",
    "print(confusion_matrix(test_generator.classes, y_pred))\n",
    "print('Classification Report')\n",
    "target_names = ['Daisy', 'Dandelion', 'Rose', 'Sunflower', 'Tulip']\n",
    "print(classification_report(validation_generator.classes, y_pred, target_names=target_names))\n"
   ]
  },
  {
   "cell_type": "code",
   "execution_count": null,
   "metadata": {},
   "outputs": [],
   "source": []
  }
 ],
 "metadata": {
  "kernelspec": {
   "display_name": "Python 3",
   "language": "python",
   "name": "python3"
  },
  "language_info": {
   "codemirror_mode": {
    "name": "ipython",
    "version": 3
   },
   "file_extension": ".py",
   "mimetype": "text/x-python",
   "name": "python",
   "nbconvert_exporter": "python",
   "pygments_lexer": "ipython3",
   "version": "3.7.4"
  }
 },
 "nbformat": 4,
 "nbformat_minor": 2
}
