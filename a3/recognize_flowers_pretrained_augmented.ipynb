{
 "cells": [
  {
   "cell_type": "markdown",
   "metadata": {},
   "source": [
    "### Convolutional Neural Network - Augmented and Pretrained"
   ]
  },
  {
   "cell_type": "markdown",
   "metadata": {},
   "source": [
    "Some research teams have trained convolutional neural networks on much larger datasets. We have seen during the lecture that the networks can model conceptual patterns as they go through the layers. This was identified by Le Cun in his first experiments (http://yann.lecun.com/exdb/lenet/). In this last part, you will train classifiers on top of a pretrained convolutional base.\n",
    "1. Build a network that consists of the Inception V3 convolutional base and two dense layers. As in Chollet, Listing 5.17, you will program an  function.\n",
    "\n",
    "    `extract_features()`\n",
    "\n",
    "2. Train your network and report the training and validation losses and accuracies.\n",
    "3. Apply your network to the test set and report the accuracy as well as the confusion matrix you obtained.\n",
    "4. Modify your program to include an image transformer. Train a new model.\n",
    "5. Apply your network to the test set and report the accuracy as well as the confusion matrix you obtained."
   ]
  },
  {
   "cell_type": "markdown",
   "metadata": {},
   "source": [
    "#### Scale Images"
   ]
  },
  {
   "cell_type": "code",
   "execution_count": 3,
   "metadata": {},
   "outputs": [],
   "source": [
    "from keras.applications import InceptionV3\n",
    "conv_base = InceptionV3(weights='imagenet',\n",
    "include_top=False,\n",
    "input_shape=(150, 150, 3))"
   ]
  },
  {
   "cell_type": "code",
   "execution_count": 1,
   "metadata": {},
   "outputs": [
    {
     "name": "stderr",
     "output_type": "stream",
     "text": [
      "Using TensorFlow backend.\n"
     ]
    },
    {
     "name": "stdout",
     "output_type": "stream",
     "text": [
      "Found 2654 images belonging to 5 classes.\n",
      "Found 865 images belonging to 5 classes.\n",
      "Found 865 images belonging to 5 classes.\n"
     ]
    }
   ],
   "source": [
    "from keras.preprocessing.image import ImageDataGenerator\n",
    "import numpy as np\n",
    "import os\n",
    "\n",
    "train_datagen = ImageDataGenerator(\n",
    "    rescale=1. / 255,\n",
    "    rotation_range=40,\n",
    "    width_shift_range=0.2,\n",
    "    height_shift_range=0.2,\n",
    "    shear_range=0.2,\n",
    "    zoom_range=0.2,\n",
    "    horizontal_flip=True,)\n",
    "\n",
    "val_datagen = ImageDataGenerator(rescale=1. / 255)\n",
    "test_datagen = ImageDataGenerator(rescale=1. / 255)\n",
    "\n",
    "datagen = ImageDataGenerator(rescale=1./255)\n",
    "batch_size = 20\n",
    "\n",
    "TRAIN_DIR = 'flowers_split/train'\n",
    "VAL_DIR = 'flowers_split/validation'\n",
    "TEST_DIR = 'flowers_split/test'\n",
    "\n",
    "train_generator = train_datagen.flow_from_directory(\n",
    "    TRAIN_DIR,\n",
    "    target_size=(150, 150),\n",
    "    batch_size=batch_size,\n",
    "    class_mode='categorical')\n",
    "\n",
    "validation_generator = test_datagen.flow_from_directory( \n",
    "    VAL_DIR,\n",
    "    target_size=(150, 150),\n",
    "    batch_size=batch_size,\n",
    "    class_mode='categorical')\n",
    "\n",
    "test_generator = test_datagen.flow_from_directory( \n",
    "    TEST_DIR,\n",
    "    target_size=(150, 150),\n",
    "    batch_size=batch_size,\n",
    "    shuffle=False,\n",
    "    class_mode='categorical')\n",
    "\n"
   ]
  },
  {
   "cell_type": "code",
   "execution_count": 6,
   "metadata": {},
   "outputs": [
    {
     "name": "stdout",
     "output_type": "stream",
     "text": [
      "data batch shape: (20, 150, 150, 3)\n",
      "labels batch shape: (20, 5)\n",
      "data batch shape: (20, 150, 150, 3)\n",
      "labels batch shape: (20, 5)\n",
      "data batch shape: (20, 150, 150, 3)\n",
      "labels batch shape: (20, 5)\n"
     ]
    }
   ],
   "source": [
    "for data_batch, labels_batch in train_generator:\n",
    "    print('data batch shape:', data_batch.shape)\n",
    "    print('labels batch shape:', labels_batch.shape)\n",
    "    break\n",
    "for data_batch, labels_batch in test_generator:\n",
    "    print('data batch shape:', data_batch.shape)\n",
    "    print('labels batch shape:', labels_batch.shape)\n",
    "    break\n",
    "for data_batch, labels_batch in validation_generator:\n",
    "    print('data batch shape:', data_batch.shape)\n",
    "    print('labels batch shape:', labels_batch.shape)\n",
    "    break"
   ]
  },
  {
   "cell_type": "markdown",
   "metadata": {},
   "source": [
    "#### Build Model"
   ]
  },
  {
   "cell_type": "code",
   "execution_count": 7,
   "metadata": {},
   "outputs": [
    {
     "name": "stdout",
     "output_type": "stream",
     "text": [
      "Model: \"sequential_3\"\n",
      "_________________________________________________________________\n",
      "Layer (type)                 Output Shape              Param #   \n",
      "=================================================================\n",
      "inception_v3 (Model)         (None, 3, 3, 2048)        21802784  \n",
      "_________________________________________________________________\n",
      "flatten_1 (Flatten)          (None, 18432)             0         \n",
      "_________________________________________________________________\n",
      "dense_3 (Dense)              (None, 256)               4718848   \n",
      "_________________________________________________________________\n",
      "dense_4 (Dense)              (None, 5)                 1285      \n",
      "=================================================================\n",
      "Total params: 26,522,917\n",
      "Trainable params: 26,488,485\n",
      "Non-trainable params: 34,432\n",
      "_________________________________________________________________\n",
      "This is the number of trainable weights before freezing the conv base: 192\n",
      "This is the number of trainable weights after freezing the conv base: 4\n"
     ]
    }
   ],
   "source": [
    "from keras import models\n",
    "from keras import layers\n",
    "from keras import optimizers\n",
    "\"\"\"\n",
    "model = models.Sequential()\n",
    "model.add(layers.Dense(256, activation='relu', input_dim=3* 3 * 2048))\n",
    "model.add(layers.Dropout(0.5))\n",
    "model.add(layers.Dense(5, activation='softmax'))\n",
    "\"\"\"\n",
    "\n",
    "model = models.Sequential() \n",
    "model.add(conv_base)\n",
    "model.add(layers.Flatten()) \n",
    "model.add(layers.Dense(256, activation='relu')) \n",
    "model.add(layers.Dense(5, activation='softmax'))\n",
    "\n",
    "\"\"\"\n",
    "model = models.Sequential() \n",
    "model.add(layers.Conv2D(32, (3, 3), activation='relu',\n",
    "input_shape=(150, 150, 3))) \n",
    "model.add(layers.MaxPooling2D((2, 2)))\n",
    "model.add(layers.Conv2D(64, (3, 3), activation='relu')) \n",
    "model.add(layers.MaxPooling2D((2, 2))) \n",
    "model.add(layers.Conv2D(128, (3, 3), activation='relu')) \n",
    "model.add(layers.MaxPooling2D((2, 2))) \n",
    "model.add(layers.Conv2D(128, (3, 3), activation='relu')) \n",
    "model.add(layers.MaxPooling2D((2, 2))) \n",
    "model.add(layers.Flatten())\n",
    "model.add(layers.Dense(512, activation='relu')) \n",
    "#model.add(layers.Dense(1, activation='sigmoid'))\n",
    "model.add(layers.Dense(5, activation='softmax'))\n",
    "\"\"\"\n",
    "model.summary()\n",
    "print('This is the number of trainable weights '\n",
    "'before freezing the conv base:', len(model.trainable_weights))\n",
    "conv_base.trainable = False\n",
    "print('This is the number of trainable weights '\n",
    "'after freezing the conv base:', len(model.trainable_weights)) \n"
   ]
  },
  {
   "cell_type": "markdown",
   "metadata": {},
   "source": [
    "#### Compile"
   ]
  },
  {
   "cell_type": "code",
   "execution_count": 8,
   "metadata": {},
   "outputs": [],
   "source": [
    "from keras import optimizers\n",
    "model.compile(loss='categorical_crossentropy',\n",
    "              optimizer=optimizers.RMSprop(lr=1e-4),\n",
    "              metrics=['acc'])"
   ]
  },
  {
   "cell_type": "markdown",
   "metadata": {},
   "source": [
    "#### Fit the model"
   ]
  },
  {
   "cell_type": "code",
   "execution_count": 9,
   "metadata": {},
   "outputs": [
    {
     "name": "stdout",
     "output_type": "stream",
     "text": [
      "Epoch 1/50\n",
      "132/132 [==============================] - 72s 549ms/step - loss: 1.3335 - acc: 0.5133 - val_loss: 1.7785 - val_acc: 0.5535\n",
      "Epoch 2/50\n",
      "132/132 [==============================] - 71s 538ms/step - loss: 0.9949 - acc: 0.6295 - val_loss: 6.4900 - val_acc: 0.4923\n",
      "Epoch 3/50\n",
      "132/132 [==============================] - 71s 539ms/step - loss: 0.9000 - acc: 0.6769 - val_loss: 1.6275 - val_acc: 0.5645\n",
      "Epoch 4/50\n",
      "132/132 [==============================] - 71s 535ms/step - loss: 0.8902 - acc: 0.6796 - val_loss: 4.8005 - val_acc: 0.6012\n",
      "Epoch 5/50\n",
      "132/132 [==============================] - 71s 539ms/step - loss: 0.8427 - acc: 0.6932 - val_loss: 2.2739 - val_acc: 0.5456\n",
      "Epoch 6/50\n",
      "132/132 [==============================] - 71s 537ms/step - loss: 0.7754 - acc: 0.7232 - val_loss: 4.4124 - val_acc: 0.5207\n",
      "Epoch 7/50\n",
      "132/132 [==============================] - 73s 556ms/step - loss: 0.7763 - acc: 0.7289 - val_loss: 3.2753 - val_acc: 0.5266\n",
      "Epoch 8/50\n",
      "132/132 [==============================] - 72s 543ms/step - loss: 0.7941 - acc: 0.7160 - val_loss: 5.7607 - val_acc: 0.5160\n",
      "Epoch 9/50\n",
      "132/132 [==============================] - 70s 531ms/step - loss: 0.7225 - acc: 0.7304 - val_loss: 2.3296 - val_acc: 0.5491\n",
      "Epoch 10/50\n",
      "132/132 [==============================] - 70s 531ms/step - loss: 0.7419 - acc: 0.7342 - val_loss: 4.5526 - val_acc: 0.6000\n",
      "Epoch 11/50\n",
      "132/132 [==============================] - 70s 534ms/step - loss: 0.7448 - acc: 0.7350 - val_loss: 2.0245 - val_acc: 0.5953\n",
      "Epoch 12/50\n",
      "132/132 [==============================] - 70s 533ms/step - loss: 0.7209 - acc: 0.7335 - val_loss: 0.9400 - val_acc: 0.6391\n",
      "Epoch 13/50\n",
      "132/132 [==============================] - 70s 533ms/step - loss: 0.7089 - acc: 0.7339 - val_loss: 2.0456 - val_acc: 0.6249\n",
      "Epoch 14/50\n",
      "132/132 [==============================] - 71s 535ms/step - loss: 0.6811 - acc: 0.7456 - val_loss: 1.3703 - val_acc: 0.6793\n",
      "Epoch 15/50\n",
      "132/132 [==============================] - 70s 534ms/step - loss: 0.7125 - acc: 0.7422 - val_loss: 1.9062 - val_acc: 0.6130\n",
      "Epoch 16/50\n",
      "132/132 [==============================] - 71s 537ms/step - loss: 0.6858 - acc: 0.7574 - val_loss: 1.2588 - val_acc: 0.6260\n",
      "Epoch 17/50\n",
      "132/132 [==============================] - 77s 584ms/step - loss: 0.6804 - acc: 0.7521 - val_loss: 2.3968 - val_acc: 0.6000\n",
      "Epoch 18/50\n",
      "132/132 [==============================] - 69s 522ms/step - loss: 0.6875 - acc: 0.7475 - val_loss: 1.8344 - val_acc: 0.6059\n",
      "Epoch 19/50\n",
      "132/132 [==============================] - 69s 522ms/step - loss: 0.6567 - acc: 0.7665 - val_loss: 2.7778 - val_acc: 0.5408\n",
      "Epoch 20/50\n",
      "132/132 [==============================] - 69s 524ms/step - loss: 0.6396 - acc: 0.7665 - val_loss: 4.7483 - val_acc: 0.6201\n",
      "Epoch 21/50\n",
      "132/132 [==============================] - 69s 526ms/step - loss: 0.6459 - acc: 0.7631 - val_loss: 3.8292 - val_acc: 0.5787\n",
      "Epoch 22/50\n",
      "132/132 [==============================] - 69s 524ms/step - loss: 0.6157 - acc: 0.7658 - val_loss: 3.8429 - val_acc: 0.6379\n",
      "Epoch 23/50\n",
      "132/132 [==============================] - 69s 526ms/step - loss: 0.6511 - acc: 0.7720 - val_loss: 1.5614 - val_acc: 0.6497\n",
      "Epoch 24/50\n",
      "132/132 [==============================] - 69s 524ms/step - loss: 0.6407 - acc: 0.7728 - val_loss: 2.0320 - val_acc: 0.6402\n",
      "Epoch 25/50\n",
      "132/132 [==============================] - 69s 525ms/step - loss: 0.6030 - acc: 0.7855 - val_loss: 1.8477 - val_acc: 0.6426\n",
      "Epoch 26/50\n",
      "132/132 [==============================] - 69s 526ms/step - loss: 0.6366 - acc: 0.7737 - val_loss: 2.1245 - val_acc: 0.6095\n",
      "Epoch 27/50\n",
      "132/132 [==============================] - 102s 775ms/step - loss: 0.6043 - acc: 0.7798 - val_loss: 2.1530 - val_acc: 0.6438\n",
      "Epoch 28/50\n",
      "132/132 [==============================] - 71s 536ms/step - loss: 0.6020 - acc: 0.7733 - val_loss: 2.5471 - val_acc: 0.5787\n",
      "Epoch 29/50\n",
      "132/132 [==============================] - 70s 528ms/step - loss: 0.6251 - acc: 0.7768 - val_loss: 1.6543 - val_acc: 0.6012\n",
      "Epoch 30/50\n",
      "132/132 [==============================] - 70s 529ms/step - loss: 0.5731 - acc: 0.7957 - val_loss: 5.3625 - val_acc: 0.6036\n",
      "Epoch 31/50\n",
      "132/132 [==============================] - 70s 528ms/step - loss: 0.6049 - acc: 0.7905 - val_loss: 4.7935 - val_acc: 0.5905\n",
      "Epoch 32/50\n",
      "132/132 [==============================] - 71s 541ms/step - loss: 0.5813 - acc: 0.8025 - val_loss: 4.7437 - val_acc: 0.6308\n",
      "Epoch 33/50\n",
      "132/132 [==============================] - 69s 525ms/step - loss: 0.6146 - acc: 0.7749 - val_loss: 7.7316 - val_acc: 0.5503\n",
      "Epoch 34/50\n",
      "132/132 [==============================] - 76s 573ms/step - loss: 0.5777 - acc: 0.7965 - val_loss: 3.0436 - val_acc: 0.6107\n",
      "Epoch 35/50\n",
      "132/132 [==============================] - 69s 525ms/step - loss: 0.6061 - acc: 0.7870 - val_loss: 1.7469 - val_acc: 0.5834\n",
      "Epoch 36/50\n",
      "132/132 [==============================] - 70s 528ms/step - loss: 0.5683 - acc: 0.8011 - val_loss: 5.6172 - val_acc: 0.6107\n",
      "Epoch 37/50\n",
      "132/132 [==============================] - 69s 526ms/step - loss: 0.5765 - acc: 0.7931 - val_loss: 4.7691 - val_acc: 0.6355\n",
      "Epoch 38/50\n",
      "132/132 [==============================] - 70s 527ms/step - loss: 0.5642 - acc: 0.8052 - val_loss: 5.6793 - val_acc: 0.6450\n",
      "Epoch 39/50\n",
      "132/132 [==============================] - 70s 528ms/step - loss: 0.5386 - acc: 0.8106 - val_loss: 3.4848 - val_acc: 0.6012\n",
      "Epoch 40/50\n",
      "132/132 [==============================] - 70s 529ms/step - loss: 0.5680 - acc: 0.8102 - val_loss: 4.3948 - val_acc: 0.6367\n",
      "Epoch 41/50\n",
      "132/132 [==============================] - 70s 531ms/step - loss: 0.5771 - acc: 0.7977 - val_loss: 4.8235 - val_acc: 0.6071\n",
      "Epoch 42/50\n",
      "132/132 [==============================] - 70s 528ms/step - loss: 0.5628 - acc: 0.8068 - val_loss: 3.2263 - val_acc: 0.6095\n",
      "Epoch 43/50\n",
      "132/132 [==============================] - 70s 531ms/step - loss: 0.5317 - acc: 0.8185 - val_loss: 3.3434 - val_acc: 0.6296\n",
      "Epoch 44/50\n",
      "132/132 [==============================] - 337s 3s/step - loss: 0.5530 - acc: 0.8060 - val_loss: 6.0183 - val_acc: 0.5964\n",
      "Epoch 45/50\n",
      "132/132 [==============================] - 73s 553ms/step - loss: 0.5531 - acc: 0.8132 - val_loss: 6.1147 - val_acc: 0.6186\n",
      "Epoch 46/50\n",
      "132/132 [==============================] - 72s 545ms/step - loss: 0.5344 - acc: 0.8147 - val_loss: 2.4973 - val_acc: 0.6012\n",
      "Epoch 47/50\n",
      "132/132 [==============================] - 72s 543ms/step - loss: 0.5039 - acc: 0.8208 - val_loss: 4.4611 - val_acc: 0.5893\n",
      "Epoch 48/50\n",
      "132/132 [==============================] - 72s 546ms/step - loss: 0.5486 - acc: 0.8061 - val_loss: 5.8459 - val_acc: 0.5846\n",
      "Epoch 49/50\n",
      "132/132 [==============================] - 72s 544ms/step - loss: 0.5481 - acc: 0.8064 - val_loss: 2.5366 - val_acc: 0.6426\n",
      "Epoch 50/50\n",
      "132/132 [==============================] - 73s 550ms/step - loss: 0.5481 - acc: 0.8018 - val_loss: 2.8312 - val_acc: 0.5811\n"
     ]
    }
   ],
   "source": [
    "history = model.fit_generator( train_generator,\n",
    "      steps_per_epoch=2654//batch_size,\n",
    "      epochs=50,\n",
    "      validation_data=validation_generator,\n",
    "      validation_steps=865//batch_size)"
   ]
  },
  {
   "cell_type": "markdown",
   "metadata": {},
   "source": [
    "#### Save the model"
   ]
  },
  {
   "cell_type": "code",
   "execution_count": 10,
   "metadata": {},
   "outputs": [],
   "source": [
    "model.save('flower_picker_x3000_50.h5')"
   ]
  },
  {
   "cell_type": "markdown",
   "metadata": {},
   "source": [
    "#### Load the model"
   ]
  },
  {
   "cell_type": "code",
   "execution_count": 2,
   "metadata": {},
   "outputs": [
    {
     "name": "stderr",
     "output_type": "stream",
     "text": [
      "/Users/ludde/opt/anaconda3/lib/python3.7/site-packages/keras/engine/saving.py:384: UserWarning: Error in loading the saved optimizer state. As a result, your model is starting with a freshly initialized optimizer.\n",
      "  warnings.warn('Error in loading the saved optimizer '\n"
     ]
    }
   ],
   "source": [
    "from keras.models import load_model\n",
    "model = load_model('flower_picker_x3000_50.h5')"
   ]
  },
  {
   "cell_type": "markdown",
   "metadata": {},
   "source": [
    "#### Display Loss and Acc"
   ]
  },
  {
   "cell_type": "code",
   "execution_count": 12,
   "metadata": {},
   "outputs": [
    {
     "data": {
      "image/png": "[encoded data removed]",
      "text/plain": [
       "<Figure size 432x288 with 1 Axes>"
      ]
     },
     "metadata": {
      "needs_background": "light"
     },
     "output_type": "display_data"
    },
    {
     "data": {
      "image/png": "[encoded data removed]",
      "text/plain": [
       "<Figure size 432x288 with 1 Axes>"
      ]
     },
     "metadata": {
      "needs_background": "light"
     },
     "output_type": "display_data"
    }
   ],
   "source": [
    "import matplotlib.pyplot as plt\n",
    "acc = history.history['acc']\n",
    "val_acc = history.history['val_acc'] \n",
    "loss = history.history['loss'] \n",
    "val_loss = history.history['val_loss']\n",
    "epochs = range(1, len(acc) + 1)\n",
    "plt.plot(epochs, acc, 'bo', label='Training acc') \n",
    "plt.plot(epochs, val_acc, 'b', label='Validation acc') \n",
    "plt.title('Training and validation accuracy') \n",
    "plt.legend()\n",
    "plt.figure()\n",
    "plt.plot(epochs, loss, 'bo', label='Training loss')\n",
    "plt.plot(epochs, val_loss, 'b', label='Validation loss')\n",
    "plt.title('Training and validation loss')\n",
    "plt.legend()\n",
    "plt.show()"
   ]
  },
  {
   "cell_type": "code",
   "execution_count": 3,
   "metadata": {},
   "outputs": [
    {
     "name": "stdout",
     "output_type": "stream",
     "text": [
      "test acc: 0.6527918577194214\n",
      "test loss: 0.2189677655696869\n",
      "Confusion Matrix\n",
      "[[167   0   1   1   6]\n",
      " [101  72   0  22   8]\n",
      " [ 28   1  68   6  55]\n",
      " [ 54   1   2  74   9]\n",
      " [ 28   5   5   5 146]]\n",
      "Classification Report\n",
      "              precision    recall  f1-score   support\n",
      "\n",
      "       Daisy       0.44      0.95      0.60       175\n",
      "   Dandelion       0.91      0.35      0.51       203\n",
      "        Rose       0.89      0.43      0.58       158\n",
      "   Sunflower       0.69      0.53      0.60       140\n",
      "       Tulip       0.65      0.77      0.71       189\n",
      "\n",
      "    accuracy                           0.61       865\n",
      "   macro avg       0.72      0.61      0.60       865\n",
      "weighted avg       0.72      0.61      0.60       865\n",
      "\n"
     ]
    }
   ],
   "source": [
    "from sklearn.metrics import classification_report, confusion_matrix\n",
    "import numpy as np\n",
    "\n",
    "test_loss, test_acc = model.evaluate_generator(test_generator, steps=50) \n",
    "print('test acc:', test_acc)\n",
    "print('test loss:', test_loss)\n",
    "\n",
    "Y_pred = model.predict(test_generator)\n",
    "y_pred = np.argmax(Y_pred, axis=1)\n",
    "print('Confusion Matrix')\n",
    "print(confusion_matrix(test_generator.classes, y_pred))\n",
    "print('Classification Report')\n",
    "target_names = ['Daisy', 'Dandelion', 'Rose', 'Sunflower', 'Tulip']\n",
    "print(classification_report(test_generator.classes, y_pred, target_names=target_names))"
   ]
  },
  {
   "cell_type": "code",
   "execution_count": null,
   "metadata": {},
   "outputs": [],
   "source": []
  }
 ],
 "metadata": {
  "kernelspec": {
   "display_name": "Python 3",
   "language": "python",
   "name": "python3"
  },
  "language_info": {
   "codemirror_mode": {
    "name": "ipython",
    "version": 3
   },
   "file_extension": ".py",
   "mimetype": "text/x-python",
   "name": "python",
   "nbconvert_exporter": "python",
   "pygments_lexer": "ipython3",
   "version": "3.7.4"
  }
 },
 "nbformat": 4,
 "nbformat_minor": 2
}
